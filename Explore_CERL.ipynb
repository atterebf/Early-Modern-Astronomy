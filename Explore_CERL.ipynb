{
 "cells": [
  {
   "cell_type": "markdown",
   "metadata": {},
   "source": [
    "# Exploring the CERL Thesaurus\n",
    "\n",
    "This notebook first queries the CERL Thesaurus API in order to retrieve a list of persons relevant to the field of astronomy in Early Modern Europe. It then collects and stores the data of each person in RDF format. Finally, it explores some of the characteristics of the available data.\n",
    "\n",
    "N.B. The CERL Thesaurus data are available under the terms of [Etalab's Open Licence](http://www.etalab.gouv.fr/pages/licence-ouverte-open-licence-5899923.html)\n"
   ]
  },
  {
   "cell_type": "code",
   "execution_count": 2,
   "metadata": {},
   "outputs": [],
   "source": [
    "### Import modules\n",
    "import requests\n",
    "import lxml.html\n",
    "from lxml import etree\n",
    "import csv\n",
    "import matplotlib.pyplot as plt\n",
    "from pandas import DataFrame, Series, read_csv, pivot_table, pivot"
   ]
  },
  {
   "cell_type": "code",
   "execution_count": 3,
   "metadata": {},
   "outputs": [],
   "source": [
    "from ipywidgets import interact, interactive, fixed, interact_manual\n",
    "import ipywidgets as widgets"
   ]
  },
  {
   "cell_type": "markdown",
   "metadata": {},
   "source": [
    "##  Get the concerned persons' authority files\n",
    "\n",
    "The query can be tested pasting the URL in a web browser or the query part in the [CERL Thesaurus search field](https://data.cerl.org/thesaurus/).\n",
    "\n",
    "The query seeks for astronomers, astrologers and mathematicians who were active between 1450 and 1770, i.e. practically the entire temporal range of the CERL Thesaurus. \n",
    "\n",
    "The result produces a list of 3102 names (26 January 2021) but some of the persons are out of scope, e.g. Firmicus Maternus, Julius.\n"
   ]
  },
  {
   "cell_type": "markdown",
   "metadata": {},
   "source": [
    "### Execute and inspect the result"
   ]
  },
  {
   "cell_type": "code",
   "execution_count": 2,
   "metadata": {},
   "outputs": [
    {
     "data": {
      "text/plain": [
       "200"
      ]
     },
     "execution_count": 2,
     "metadata": {},
     "output_type": "execute_result"
    }
   ],
   "source": [
    "### Doc.:  https://2.python-requests.org/en/master/\n",
    "r = requests.get('https://data.cerl.org/thesaurus/_search?query=(mathé*+OR+mathe*+OR+matem*+OR+astro*)+AND+type%3Acnp+AND+year_start:>1450+AND+year_end:<1771')\n",
    "\n",
    "r.status_code"
   ]
  },
  {
   "cell_type": "code",
   "execution_count": 21,
   "metadata": {},
   "outputs": [
    {
     "name": "stdout",
     "output_type": "stream",
     "text": [
      "text/html;charset=UTF-8 \n",
      "-----\n",
      "<!DOCTYPE html>\n",
      "<html lang=\"en\">\n",
      "  <head>\n",
      "    <meta charset=\"utf-8\">\n",
      "    <meta http-equiv= \n",
      "-----\n",
      "<class 'str'> \n",
      "-----\n",
      "<class 'bytes'> \n",
      "\n"
     ]
    }
   ],
   "source": [
    "print(r.headers['content-type'], '\\n-----')\n",
    "print(r.text[:90], '\\n-----')\n",
    "print(type(r.text), '\\n-----')\n",
    "print(type(r.content), '\\n')"
   ]
  },
  {
   "cell_type": "markdown",
   "metadata": {},
   "source": [
    "### Produce the list of persons"
   ]
  },
  {
   "cell_type": "code",
   "execution_count": 15,
   "metadata": {},
   "outputs": [],
   "source": [
    "# https://www.programcreek.com/python/example/59302/lxml.etree.HTMLParser\n",
    "parser = etree.HTMLParser(recover=True)\n",
    "\n",
    "# retrieve all pages using maximal possible pagination\n",
    "\n",
    "from_pag = 0\n",
    "interv = 100\n",
    "\n",
    "id_list = []\n",
    "id_count = []\n",
    "\n",
    "while from_pag < 3200:  # Number defined according to the manual inspected query result, 3102 on 26 January 2021\n",
    "\n",
    "    url = 'https://data.cerl.org/thesaurus/_search?query=(mathé*+OR+mathe*+OR+matem*+OR+astro*)+AND+type%3Acnp+AND+year_start:>1450+AND+year_end:<1771&size=100&from=' + str(from_pag)\n",
    "\n",
    "    from_pag += interv \n",
    "    \n",
    "    r = requests.get(url)\n",
    "\n",
    "    et = etree.HTML(r.content, parser)\n",
    "\n",
    "    id_count.append(len(et.xpath('//a/@href[contains(.,\"rus/cnp\")]')))\n",
    "    \n",
    "    [id_list.append(e.replace('/thesaurus/', '')) for e in et.xpath('//a/@href[contains(.,\"rus/cnp\")]') if e.replace('/thesaurus/', '') ] # not in id_list"
   ]
  },
  {
   "cell_type": "code",
   "execution_count": 16,
   "metadata": {},
   "outputs": [
    {
     "name": "stdout",
     "output_type": "stream",
     "text": [
      "3102\n"
     ]
    },
    {
     "data": {
      "text/plain": [
       "['cnp01355685',\n",
       " 'cnp02006023',\n",
       " 'cnp02180773',\n",
       " 'cnp02190984',\n",
       " 'cnp02202966',\n",
       " 'cnp02048444',\n",
       " 'cnp02199536',\n",
       " 'cnp02098294',\n",
       " 'cnp02044607',\n",
       " 'cnp01344247']"
      ]
     },
     "execution_count": 16,
     "metadata": {},
     "output_type": "execute_result"
    }
   ],
   "source": [
    "print(len(id_list))\n",
    "id_list[-10:]"
   ]
  },
  {
   "cell_type": "markdown",
   "metadata": {},
   "source": [
    "### Store result in a CSV file"
   ]
  },
  {
   "cell_type": "code",
   "execution_count": 17,
   "metadata": {},
   "outputs": [],
   "source": [
    "with open('spreadsheets/query_import_1.csv', 'w', newline='') as csvfile:\n",
    "    r_writer = csv.writer(csvfile, delimiter=',',\n",
    "                            quotechar='|', quoting=csv.QUOTE_MINIMAL)\n",
    "    i = 0\n",
    "    r_writer.writerow(['index', 'value'])\n",
    "    for l in id_list:\n",
    "        r_writer.writerow([i, l])\n",
    "        i += 1\n"
   ]
  },
  {
   "cell_type": "markdown",
   "metadata": {},
   "source": [
    "### Download the .ttl files for each person in the list\n",
    "\n",
    "This script aims at illustrating the process of retreiving the files. \n",
    "\n",
    "They are then imported into a triplestore and submitted to queries that produce the CSV files available in the 'spreadsheets' folder and used in the next part of the notebook. \n",
    "\n",
    "This workflow will be detailed at a later stage.\n"
   ]
  },
  {
   "cell_type": "code",
   "execution_count": null,
   "metadata": {},
   "outputs": [],
   "source": [
    "written_files = []\n",
    "\n",
    "### do not execute on Binder !\n",
    "#STOP# for f in id_list:\n",
    "    id_file = f\n",
    "    try:\n",
    "        r = requests.get('https://data.cerl.org/thesaurus/'+ id_file +'?format=txt&style=ttl')\n",
    "        file_address = 'CERL_files/'+ id_file +'.ttl'\n",
    "        with open(file_address, 'w') as f:\n",
    "            f.write(r.text)  \n",
    "    except BaseException:         \n",
    "        written_files.append([f,False])\n",
    "    else:\n",
    "        written_files.append([f,True])\n",
    "        \n"
   ]
  },
  {
   "cell_type": "code",
   "execution_count": null,
   "metadata": {},
   "outputs": [],
   "source": []
  },
  {
   "cell_type": "markdown",
   "metadata": {},
   "source": [
    "## Explore basic characteristics of this population\n",
    "\n",
    "In this part of the notebook we inspect information available in the CERL dataset in order to prepare the following steps.\n",
    "\n",
    "The CERL authority files RDF data was stored in a triplestored, then queried to produce the CSV available in the 'spreadsheets' folder.\n",
    "\n"
   ]
  },
  {
   "cell_type": "markdown",
   "metadata": {},
   "source": [
    "### Explore the distribution of the population by year of birth"
   ]
  },
  {
   "cell_type": "code",
   "execution_count": 22,
   "metadata": {},
   "outputs": [],
   "source": [
    "birth_y_grouped = read_csv('spreadsheets/birth_years_grouped.csv', sep='\\t', header=0)"
   ]
  },
  {
   "cell_type": "code",
   "execution_count": null,
   "metadata": {},
   "outputs": [],
   "source": [
    "birth_y_grouped.head()"
   ]
  },
  {
   "cell_type": "code",
   "execution_count": 23,
   "metadata": {},
   "outputs": [
    {
     "data": {
      "text/plain": [
       "[[1400, 6], [1401, 1], [1428, 1]]"
      ]
     },
     "execution_count": 23,
     "metadata": {},
     "output_type": "execute_result"
    }
   ],
   "source": [
    "lol = birth_y_grouped.values.tolist() \n",
    "lol[:3]"
   ]
  },
  {
   "cell_type": "code",
   "execution_count": 36,
   "metadata": {},
   "outputs": [],
   "source": [
    "### Create a list with intervals of 20 years, corresponding approximately to one generation.\n",
    "d_list = []\n",
    "period = 20\n",
    "d_start = 1391\n",
    "i = 0\n",
    "d_list = []\n",
    "d_list.append(d_start)\n",
    "\n",
    "while i < 20:\n",
    "    d_start = d_start + period\n",
    "    d_list.append(d_start)\n",
    "    i += 1"
   ]
  },
  {
   "cell_type": "code",
   "execution_count": 37,
   "metadata": {},
   "outputs": [
    {
     "name": "stdout",
     "output_type": "stream",
     "text": [
      "[1391, 1411]\n"
     ]
    },
    {
     "data": {
      "text/plain": [
       "(1391, 1791)"
      ]
     },
     "execution_count": 37,
     "metadata": {},
     "output_type": "execute_result"
    }
   ],
   "source": [
    "print(d_list[:2])\n",
    "min(d_list), max(d_list)"
   ]
  },
  {
   "cell_type": "code",
   "execution_count": 51,
   "metadata": {},
   "outputs": [
    {
     "name": "stdout",
     "output_type": "stream",
     "text": [
      "[[1391, 7], [1411, 4], [1431, 46], [1451, 125], [1471, 225], [1491, 268], [1511, 268], [1531, 289], [1551, 337], [1571, 469], [1591, 451], [1611, 369], [1631, 374], [1651, 386], [1671, 366], [1691, 238], [1711, 63], [1731, 3], [1751, 3], [1771, 1], [1791, 0]]\n"
     ]
    }
   ],
   "source": [
    "# Births grouped by periods of 20 years\n",
    "i_list = []\n",
    "for i in d_list:\n",
    "    i_n = 0\n",
    "    for l in lol:\n",
    "        if l[0] >= i and l[0] < (i + 30):\n",
    "            i_n = i_n + l[1]\n",
    "    i_list.append([i, i_n]) \n",
    "print(i_list)"
   ]
  },
  {
   "cell_type": "code",
   "execution_count": 52,
   "metadata": {},
   "outputs": [
    {
     "data": {
      "image/png": "[encoded data removed]",
      "text/plain": [
       "<Figure size 1008x504 with 1 Axes>"
      ]
     },
     "metadata": {
      "needs_background": "light"
     },
     "output_type": "display_data"
    }
   ],
   "source": [
    "# Distribution by 20 years periods\n",
    "\n",
    "generation = [e[0] for e in i_list]\n",
    "eff = [e[1] for e in i_list]\n",
    "\n",
    "p1 = plt.bar(generation, eff, width=15)\n",
    "\n",
    "plt.xticks([i - 10 for i in d_list])\n",
    "plt.ylabel('Frequency')\n",
    "plt.title('Births per 20 years')\n",
    "plt.gcf().set_size_inches(14, 7)\n",
    "#plt.gca().axes.get_xaxis().set_visible(False)\n",
    "# supported formats: eps, pdf, pgf, png, ps, raw, rgba, svg, svgz\n",
    "#plt.savefig('exported_pictures/effectifs_naissances_par_annee.png', dpi=100, bbox_inches = \"tight\") #pdf, svg\n",
    "plt.xticks(rotation=45)\n",
    "plt.show()\n"
   ]
  },
  {
   "cell_type": "markdown",
   "metadata": {},
   "source": [
    "### Inspect the activities\n",
    "\n",
    "Analyze the main activities assigned to the actors and their distribution over time (an actor can have several activities, some have none or they are uncoded).\n",
    "\n",
    "The coding process will be illustrated in another notebook.\n"
   ]
  },
  {
   "cell_type": "code",
   "execution_count": 4,
   "metadata": {},
   "outputs": [],
   "source": [
    "coded_activities = read_csv('spreadsheets/coded_activities_per_person_and_year.csv', sep='\\t', header=0)"
   ]
  },
  {
   "cell_type": "code",
   "execution_count": 5,
   "metadata": {},
   "outputs": [
    {
     "data": {
      "text/html": [
       "<div>\n",
       "<style scoped>\n",
       "    .dataframe tbody tr th:only-of-type {\n",
       "        vertical-align: middle;\n",
       "    }\n",
       "\n",
       "    .dataframe tbody tr th {\n",
       "        vertical-align: top;\n",
       "    }\n",
       "\n",
       "    .dataframe thead th {\n",
       "        text-align: right;\n",
       "    }\n",
       "</style>\n",
       "<table border=\"1\" class=\"dataframe\">\n",
       "  <thead>\n",
       "    <tr style=\"text-align: right;\">\n",
       "      <th></th>\n",
       "      <th>subject</th>\n",
       "      <th>coded_activity</th>\n",
       "      <th>year</th>\n",
       "    </tr>\n",
       "  </thead>\n",
       "  <tbody>\n",
       "    <tr>\n",
       "      <th>0</th>\n",
       "      <td>http://thesaurus.cerl.org/record/cnp02088071</td>\n",
       "      <td>Astrology</td>\n",
       "      <td>1400</td>\n",
       "    </tr>\n",
       "    <tr>\n",
       "      <th>1</th>\n",
       "      <td>http://thesaurus.cerl.org/record/cnp01236908</td>\n",
       "      <td>Astronomy</td>\n",
       "      <td>1400</td>\n",
       "    </tr>\n",
       "    <tr>\n",
       "      <th>2</th>\n",
       "      <td>http://thesaurus.cerl.org/record/cnp01324483</td>\n",
       "      <td>Astronomy</td>\n",
       "      <td>1400</td>\n",
       "    </tr>\n",
       "    <tr>\n",
       "      <th>3</th>\n",
       "      <td>http://thesaurus.cerl.org/record/cnp01402629</td>\n",
       "      <td>Astronomy</td>\n",
       "      <td>1400</td>\n",
       "    </tr>\n",
       "    <tr>\n",
       "      <th>4</th>\n",
       "      <td>http://thesaurus.cerl.org/record/cnp01402629</td>\n",
       "      <td>Mathematics</td>\n",
       "      <td>1400</td>\n",
       "    </tr>\n",
       "  </tbody>\n",
       "</table>\n",
       "</div>"
      ],
      "text/plain": [
       "                                        subject coded_activity  year\n",
       "0  http://thesaurus.cerl.org/record/cnp02088071      Astrology  1400\n",
       "1  http://thesaurus.cerl.org/record/cnp01236908      Astronomy  1400\n",
       "2  http://thesaurus.cerl.org/record/cnp01324483      Astronomy  1400\n",
       "3  http://thesaurus.cerl.org/record/cnp01402629      Astronomy  1400\n",
       "4  http://thesaurus.cerl.org/record/cnp01402629    Mathematics  1400"
      ]
     },
     "execution_count": 5,
     "metadata": {},
     "output_type": "execute_result"
    }
   ],
   "source": [
    "coded_activities.head()"
   ]
  },
  {
   "cell_type": "markdown",
   "metadata": {},
   "source": [
    "### Plot the activities\n",
    "\n",
    "\n",
    "The distribution of activities over time makes visible the evolution of disciplines: the 16th century is that of astrology, the 17th century that of physics. Of course in the perspective of librarians expressing the main characteristic of the activity of an actor.\n",
    "\n",
    "Boxes are proportional to frequency of mentions. The discipline common to most persons is mathematics. \n",
    "\n"
   ]
  },
  {
   "cell_type": "code",
   "execution_count": 6,
   "metadata": {},
   "outputs": [],
   "source": [
    "from collections import Counter\n",
    "count_activities = Counter(coded_activities['coded_activity'])"
   ]
  },
  {
   "cell_type": "code",
   "execution_count": 7,
   "metadata": {},
   "outputs": [],
   "source": [
    "labels = count_activities.keys()\n",
    "cat = tuple(count_activities.values())\n",
    "\n",
    "cat_10 = [c/sum(cat)*2 for c in cat]"
   ]
  },
  {
   "cell_type": "code",
   "execution_count": 11,
   "metadata": {},
   "outputs": [
    {
     "data": {
      "image/png": "[encoded data removed]",
      "text/plain": [
       "<Figure size 1008x864 with 1 Axes>"
      ]
     },
     "metadata": {
      "needs_background": "light"
     },
     "output_type": "display_data"
    }
   ],
   "source": [
    "p = coded_activities.boxplot(by='coded_activity', \n",
    "      rot=45, figsize=(14,12), showfliers=False, widths=cat_10, vert=False)\n",
    "p.set_title('')\n",
    "\n",
    "ax = p.set_ylabel(\"Year\")"
   ]
  },
  {
   "cell_type": "markdown",
   "metadata": {},
   "source": [
    "### Number of links to other resources\n",
    "\n",
    "Most persons in CERL (75%) are related to one to four other resources. A few have more then 10, not necessarily the then best known people but those whose books are kept in several national libraries. An inspection of individual cases is needed. \n"
   ]
  },
  {
   "cell_type": "code",
   "execution_count": null,
   "metadata": {},
   "outputs": [],
   "source": [
    "number_l = read_csv('spreadsheets/number_URI_links_per_person.csv', sep='\\t', header=0)\n",
    "number_l.head()"
   ]
  },
  {
   "cell_type": "code",
   "execution_count": 123,
   "metadata": {},
   "outputs": [
    {
     "name": "stdout",
     "output_type": "stream",
     "text": [
      "           eff\n",
      "count  3054.00\n",
      "mean      3.00\n",
      "std       2.25\n",
      "min       0.00\n",
      "25%       1.00\n",
      "50%       3.00\n",
      "75%       4.00\n",
      "max      19.00\n"
     ]
    }
   ],
   "source": [
    "stats_numeric = number_l.describe().round(2)\n",
    "print(stats_numeric)"
   ]
  },
  {
   "cell_type": "code",
   "execution_count": 198,
   "metadata": {},
   "outputs": [
    {
     "data": {
      "image/png": "[encoded data removed]",
      "text/plain": [
       "<Figure size 1008x504 with 1 Axes>"
      ]
     },
     "metadata": {
      "needs_background": "light"
     },
     "output_type": "display_data"
    }
   ],
   "source": [
    "pl = number_l.plot(figsize=(14,7))"
   ]
  },
  {
   "cell_type": "markdown",
   "metadata": {},
   "source": [
    "### Frequency of references by authority file system"
   ]
  },
  {
   "cell_type": "code",
   "execution_count": 180,
   "metadata": {},
   "outputs": [],
   "source": [
    "uri_freq= read_csv('spreadsheets/URI_freq.csv', sep='\\t', header=0)"
   ]
  },
  {
   "cell_type": "code",
   "execution_count": 192,
   "metadata": {},
   "outputs": [
    {
     "data": {
      "text/html": [
       "<div>\n",
       "<style scoped>\n",
       "    .dataframe tbody tr th:only-of-type {\n",
       "        vertical-align: middle;\n",
       "    }\n",
       "\n",
       "    .dataframe tbody tr th {\n",
       "        vertical-align: top;\n",
       "    }\n",
       "\n",
       "    .dataframe thead th {\n",
       "        text-align: right;\n",
       "    }\n",
       "</style>\n",
       "<table border=\"1\" class=\"dataframe\">\n",
       "  <thead>\n",
       "    <tr style=\"text-align: right;\">\n",
       "      <th></th>\n",
       "      <th>freq</th>\n",
       "      <th>base_uri</th>\n",
       "    </tr>\n",
       "  </thead>\n",
       "  <tbody>\n",
       "    <tr>\n",
       "      <th>0</th>\n",
       "      <td>2667</td>\n",
       "      <td>http://d-nb.info/gnd/</td>\n",
       "    </tr>\n",
       "    <tr>\n",
       "      <th>1</th>\n",
       "      <td>2136</td>\n",
       "      <td>http://viaf.org/viaf/</td>\n",
       "    </tr>\n",
       "    <tr>\n",
       "      <th>2</th>\n",
       "      <td>1550</td>\n",
       "      <td>http://www.wikidata.org/entity/</td>\n",
       "    </tr>\n",
       "    <tr>\n",
       "      <th>3</th>\n",
       "      <td>812</td>\n",
       "      <td>http://data.bnf.fr/ark:/12148/</td>\n",
       "    </tr>\n",
       "    <tr>\n",
       "      <th>4</th>\n",
       "      <td>795</td>\n",
       "      <td>http://www.idref.fr/</td>\n",
       "    </tr>\n",
       "    <tr>\n",
       "      <th>5</th>\n",
       "      <td>582</td>\n",
       "      <td>http://dbpedia.org/resource/</td>\n",
       "    </tr>\n",
       "    <tr>\n",
       "      <th>6</th>\n",
       "      <td>359</td>\n",
       "      <td>http://libris.kb.se/resource/auth/</td>\n",
       "    </tr>\n",
       "    <tr>\n",
       "      <th>7</th>\n",
       "      <td>249</td>\n",
       "      <td>http://isni.org/isni/</td>\n",
       "    </tr>\n",
       "    <tr>\n",
       "      <th>8</th>\n",
       "      <td>4</td>\n",
       "      <td>http://nektar.oszk.hu/resource/auth/</td>\n",
       "    </tr>\n",
       "    <tr>\n",
       "      <th>9</th>\n",
       "      <td>1</td>\n",
       "      <td>http://catalogue.bnf.fr/ark:/12148/</td>\n",
       "    </tr>\n",
       "  </tbody>\n",
       "</table>\n",
       "</div>"
      ],
      "text/plain": [
       "   freq                              base_uri\n",
       "0  2667                 http://d-nb.info/gnd/\n",
       "1  2136                 http://viaf.org/viaf/\n",
       "2  1550       http://www.wikidata.org/entity/\n",
       "3   812        http://data.bnf.fr/ark:/12148/\n",
       "4   795                  http://www.idref.fr/\n",
       "5   582          http://dbpedia.org/resource/\n",
       "6   359    http://libris.kb.se/resource/auth/\n",
       "7   249                 http://isni.org/isni/\n",
       "8     4  http://nektar.oszk.hu/resource/auth/\n",
       "9     1   http://catalogue.bnf.fr/ark:/12148/"
      ]
     },
     "metadata": {},
     "output_type": "display_data"
    }
   ],
   "source": [
    "display(uri_freq)"
   ]
  },
  {
   "cell_type": "code",
   "execution_count": 194,
   "metadata": {},
   "outputs": [
    {
     "data": {
      "image/png": "[encoded data removed]",
      "text/plain": [
       "<Figure size 1008x504 with 1 Axes>"
      ]
     },
     "metadata": {
      "needs_background": "light"
     },
     "output_type": "display_data"
    }
   ],
   "source": [
    "pt = uri_freq.plot(x='base_uri', kind='bar', rot=75, figsize=(14,7))"
   ]
  },
  {
   "cell_type": "code",
   "execution_count": null,
   "metadata": {},
   "outputs": [],
   "source": [
    "def "
   ]
  },
  {
   "cell_type": "code",
   "execution_count": null,
   "metadata": {},
   "outputs": [],
   "source": []
  }
 ],
 "metadata": {
  "kernelspec": {
   "display_name": "Py 3.7 Astronomy",
   "language": "python",
   "name": "py37_astronomy"
  },
  "language_info": {
   "codemirror_mode": {
    "name": "ipython",
    "version": 3
   },
   "file_extension": ".py",
   "mimetype": "text/x-python",
   "name": "python",
   "nbconvert_exporter": "python",
   "pygments_lexer": "ipython3",
   "version": "3.7.9"
  },
  "toc-autonumbering": false,
  "toc-showtags": true
 },
 "nbformat": 4,
 "nbformat_minor": 4
}
