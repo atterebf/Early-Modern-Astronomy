{
 "cells": [
  {
   "cell_type": "markdown",
   "metadata": {},
   "source": [
    "<h1>Charting the Field of Astronomy in Early Modern Europe Using Linked Open Data</h1>\n",
    "\n",
    "\n",
    "\n",
    "<h2>[Summary / Tags]</h2>\n",
    "\n",
    "\n"
   ]
  },
  {
   "cell_type": "markdown",
   "metadata": {},
   "source": [
    "In the early Nineties, Richard S. Westfall (1924–1996), a historian of science concerned with the cultural and social context of scientific activity, collected a considerable amount of information about a population of 630 scientists considered to have participated in the Scientific Revolution or in any case deserving of an entry in the Dictionary of Scientific Biography (Charles Gillispie, ed., 1979-1980). The extent of the population was thus defined by the representative character of these scholars from the encyclopedic point of view and brought together representatives from different scientific fields. The analysis of the rich information systematically collected by R. Westfall in different sources, and stored in a local database, allowed him to draw up a first profile of this population —with a primarily heuristic function— in an article published in 1996 [1]. The database was then made available to researchers on a website by Albert Van den Velden [2] and then incorporated into a website published by Robert A. Hatch where it is still available [3]. "
   ]
  },
  {
   "cell_type": "markdown",
   "metadata": {},
   "source": [
    "The multiplication of online resources over the last twenty years makes it possible to take Westfall's research agenda into a new dimension, in particular by enlarging the considered population and virtually integrating all the actors who have published works in this field. The starting point of this undertaking will be the bibliographic records of libraries and the correspondent authority files that provide basic information about the authors of the works held by these institutions. In addition, the vision of the LOD [4,5] has led to the linking of these resources through their identifiers or URIs which creates an information graph also involving platforms such as DBPedia, Wikidata, etc. Finally, more and more research projects in humanities and social sciences, particularly in the field of the history of knowledge, are making data available using semantic web technologies and connecting them to identifiers provided by authority files, following the logic of LOD [6, 7]. "
   ]
  },
  {
   "cell_type": "markdown",
   "metadata": {},
   "source": [
    "For the digital historian, the challenge therefore becomes to question these resources and to use this data for his/her own research agenda. In this paper, I will present a first stage of this approach using the ‘metadata’ about books and authors present in library authory file records, and show how the information they contain can be collected, wrangled and used to answer research questions. I will focus on a specific discipline, astronomy, and —in the same perspective as Richard Westfall, and considering the same historical period— use this information to ‘chart’ a scientific field, and more specifically the geographical origins of its actors, the places of publication of their books, and also, as far as possible, their places of activity and their evolution in time. I will also inspect the classifications provided by the librarians about books and their authors using a more or less controlled terminology, the co-occurrences of classification terms and their evolution over time with respect to the considered historical object, and, if possible, the networks of relationships emerging from this ‘metadata’. In contrast, the contents of the texts themselves will be left out of scope in this first approach."
   ]
  },
  {
   "cell_type": "markdown",
   "metadata": {},
   "source": [
    "The Thesaurus of CERL (Consortium of European Research Libraries) [8] will be at the heart of this endeavour. It aggregates authority files from several European Libraries, and notably the BNF and GND resources, for the period between 1450 and 1830 [9]. The aggregated data are published as LOD and provide a link to the original resources and external ones. These resources are being parsed and integrated using Python libraries. The methodology adopted will be presented in a series of Jupyter notebooks allowing to follow the process of data recovery, cleansing and integration. In order to combine data stemming from different repositories and data models, a common ontology suitable for intellectual history will be applied, and the data consequently wrangled and published —in the end of the process— in RDF format. Finally, a couple of dedicated Jupyter notebooks will propose a ‘chart’ of the field of astronomy in Early Modern Europe according to the mentioned line of inquiry (geographical mapping, classification, relationships and their and evolution in time) and thus support and accompany the storytelling of the paper that will present a possible model, i.e. a representation of the considered intellectual space from the point of view of the available information."
   ]
  },
  {
   "cell_type": "code",
   "execution_count": null,
   "metadata": {},
   "outputs": [],
   "source": [
    "from lxml import etree\n",
    "import pandas as pd\n",
    "import matplotlib.pyplot as plt\n",
    "import numpy as np\n",
    "\n",
    "\n",
    "from importlib import reload\n",
    "import pprint\n",
    "import time\n",
    "from shutil import copyfile\n",
    "from operator import itemgetter\n",
    "from collections import Counter\n",
    "\n",
    "import requests\n",
    "import re\n",
    "\n",
    "import sqlite3 as sql\n",
    "import csv\n",
    "import json\n",
    "import ast"
   ]
  },
  {
   "cell_type": "code",
   "execution_count": null,
   "metadata": {},
   "outputs": [],
   "source": [
    "from ipywidgets import (\n",
    "    interact, fixed,\n",
    "    interactive, Button,\n",
    "    HTML, Layout,GridspecLayout,\n",
    "    Output, jslink,\n",
    "    IntSlider, ColorPicker,\n",
    "    Text, SelectionRangeSlider,\n",
    "    FloatRangeSlider, SelectMultiple, Checkbox,\n",
    "    VBox, HBox)"
   ]
  },
  {
   "cell_type": "code",
   "execution_count": null,
   "metadata": {},
   "outputs": [],
   "source": [
    "from ipyleaflet import (Map,\n",
    "                        basemap_to_tiles,\n",
    "                        basemaps,\n",
    "                        CircleMarker,\n",
    "                        MarkerCluster,\n",
    "                        LayerGroup, \n",
    "                        LayersControl,\n",
    "                        WidgetControl,\n",
    "                        Popup,\n",
    "                        SplitMapControl\n",
    "                       )\n",
    "import pandas as pd\n",
    "import sqlite3 as sql"
   ]
  },
  {
   "cell_type": "code",
   "execution_count": null,
   "metadata": {},
   "outputs": [],
   "source": []
  },
  {
   "cell_type": "code",
   "execution_count": null,
   "metadata": {},
   "outputs": [],
   "source": []
  },
  {
   "cell_type": "markdown",
   "metadata": {},
   "source": [
    "#  Get the list of the relevant persons"
   ]
  },
  {
   "cell_type": "code",
   "execution_count": null,
   "metadata": {},
   "outputs": [],
   "source": [
    "### The maximum result number in one page is 100, \n",
    "#  this web scraping script parses the result and walks over all the pages\n",
    "\n",
    "parser = etree.HTMLParser(recover=True)\n",
    "\n",
    "\n",
    "### Documentation concerning pagination in Elasticsearch – and CERL\n",
    "#   https://mindmajix.com/elasticsearch/pagination-and-retrieving-of-documents\n",
    "\n",
    "###  Supported REST parameters:\n",
    "#   https://www.elastic.co/guide/en/elasticsearch/reference/master/sql-rest-fields.html\n",
    "\n",
    "\n",
    "from_pag = 0\n",
    "interv = 100\n",
    "\n",
    "id_list = []\n",
    "id_count = []\n",
    "\n",
    "while from_pag < 3500:  # Number defined according to the manual inspected query result, 3101 on 4 March 2021\n",
    "\n",
    "    url = 'https://data.cerl.org/thesaurus/_search?query=(mathé*+OR+mathe*+OR+matem*+OR+astro*)+AND+type%3Acnp+AND+year_start:>1450+AND+year_end:<1771&size=100&from=' + str(from_pag)\n",
    "\n",
    "    from_pag += interv \n",
    "    \n",
    "    r = requests.get(url)\n",
    "\n",
    "    et = etree.HTML(r.content, parser)\n",
    "\n",
    "    id_count.append(len(et.xpath('//a/@href[contains(.,\"rus/cnp\")]')))\n",
    "    \n",
    "    [id_list.append(e.replace('/thesaurus/', '')) for e in et.xpath('//a/@href[contains(.,\"rus/cnp\")]') if e.replace('/thesaurus/', '') ] # not in id_list"
   ]
  },
  {
   "cell_type": "code",
   "execution_count": null,
   "metadata": {},
   "outputs": [],
   "source": [
    "len(id_list)"
   ]
  },
  {
   "cell_type": "markdown",
   "metadata": {},
   "source": [
    "Result number:\n",
    "* Begin of March 2021: 3102\n",
    "*  18 March 2021 : 2998\n",
    "*  19 April 2021 : 3091"
   ]
  },
  {
   "cell_type": "code",
   "execution_count": null,
   "metadata": {},
   "outputs": [],
   "source": [
    "id_list[-5:]"
   ]
  },
  {
   "cell_type": "markdown",
   "metadata": {},
   "source": [
    "## Store result in CSV\n",
    "\n",
    "Stored on 2nd April 2021"
   ]
  },
  {
   "cell_type": "code",
   "execution_count": null,
   "metadata": {},
   "outputs": [],
   "source": [
    "#  STOP : deactivated \n",
    "# with open('spreadsheets/query_cerl_persons_list.csv', 'w', newline='') as csvfile:\n",
    "    r_writer = csv.writer(csvfile, delimiter=',',\n",
    "                            quotechar='|', quoting=csv.QUOTE_MINIMAL)\n",
    "    i = 0\n",
    "    r_writer.writerow(['index', 'value'])\n",
    "    for l in id_list:\n",
    "        r_writer.writerow([i, l])\n",
    "        i += 1\n"
   ]
  },
  {
   "cell_type": "markdown",
   "metadata": {},
   "source": [
    "# Get the data using the new JSON files"
   ]
  },
  {
   "cell_type": "markdown",
   "metadata": {},
   "source": [
    "### Creating SQLite database\n",
    "\n",
    "Documentation : https://docs.python.org/3/library/sqlite3.html"
   ]
  },
  {
   "cell_type": "code",
   "execution_count": null,
   "metadata": {},
   "outputs": [],
   "source": [
    "### Create database (if not existing) and connect\n",
    "\n",
    "cn = sql.connect('db_stores/CERL.db')"
   ]
  },
  {
   "cell_type": "code",
   "execution_count": null,
   "metadata": {},
   "outputs": [],
   "source": [
    "c = cn.cursor()\n",
    "\n",
    "\"\"\" Deactivated after table creation\n",
    "\n",
    "# Drop table if exists\n",
    "# c.execute('''DROP TABLE new_json_files;''')\n",
    "\n",
    "# Create table \n",
    "c.execute('''CREATE TABLE new_json_files\n",
    "             (pk_new_json_files INTEGER PRIMARY KEY, id_entity text, entity_std_name varchar (250), json text, timestmp text )''')\n",
    "\n",
    "# Save (commit) the changes\n",
    "cn.commit()\n",
    "\n",
    "\n",
    "\"\"\"\n",
    "\n",
    "\n",
    "cn.close()"
   ]
  },
  {
   "cell_type": "markdown",
   "metadata": {},
   "source": [
    "###  Versioning of the SQLite database\n",
    "\n",
    "This should be done before each relevant operation on the database"
   ]
  },
  {
   "cell_type": "code",
   "execution_count": null,
   "metadata": {},
   "outputs": [],
   "source": [
    "def timestamp_formatted_for_file_name():\n",
    "    is_now = time.strftime('%Y%m%d_%H%M%S')\n",
    "    return is_now\n",
    "# timestamp_formatted_for_file_name()\n",
    "original_db = 'db_stores/CERL.db'\n",
    "timestamped_db_copy = 'db_stores/CERL_' + timestamp_formatted_for_file_name() + '.db'\n",
    "### Documentation:\n",
    "# https://docs.python.org/3/library/shutil.htmlcopied_db = copyfile(original_db, timestamped_db_copy)\n",
    "copied_db = copyfile(original_db, timestamped_db_copy)\n",
    "### Documentation:\n",
    "# https://docs.python.org/3/library/shutil.htmlcopied_db = copyfile(original_db, timestamped_db_copy)\n",
    "copied_db = copyfile(original_db, timestamped_db_copy)\n",
    "copied_db"
   ]
  },
  {
   "cell_type": "code",
   "execution_count": null,
   "metadata": {},
   "outputs": [],
   "source": [
    "db = sql.connect(original_db)"
   ]
  },
  {
   "cell_type": "code",
   "execution_count": null,
   "metadata": {},
   "outputs": [],
   "source": [
    "c = db.cursor()\n",
    "# STOP #  c.execute('DELETE FROM new_json_files')\n",
    "c.execute('SELECT COUNT(*) FROM new_json_files')\n",
    "print(c.fetchone())\n",
    "db.close()"
   ]
  },
  {
   "cell_type": "code",
   "execution_count": null,
   "metadata": {},
   "outputs": [],
   "source": []
  },
  {
   "cell_type": "markdown",
   "metadata": {},
   "source": [
    "## Get the JSON files from the CERL server and store them into the SQLite database"
   ]
  },
  {
   "cell_type": "markdown",
   "metadata": {},
   "source": [
    "#### Preparing address list"
   ]
  },
  {
   "cell_type": "code",
   "execution_count": null,
   "metadata": {},
   "outputs": [],
   "source": [
    "lread = []\n",
    "with open('spreadsheets/query_cerl_persons_list.csv', newline='') as csvfile:\n",
    "    fread = csv.reader(csvfile, delimiter=',')\n",
    "    lread = [l for l in fread]"
   ]
  },
  {
   "cell_type": "code",
   "execution_count": null,
   "metadata": {},
   "outputs": [],
   "source": [
    "cnp_list = [l[1] for l in lread[1:]]\n",
    "print(len(cnp_list))\n",
    "cnp_list[:3]"
   ]
  },
  {
   "cell_type": "markdown",
   "metadata": {},
   "source": [
    "### Querying the CERL database"
   ]
  },
  {
   "cell_type": "code",
   "execution_count": null,
   "metadata": {},
   "outputs": [],
   "source": [
    "cn = sql.connect('db_stores/CERL.db')"
   ]
  },
  {
   "cell_type": "code",
   "execution_count": null,
   "metadata": {},
   "outputs": [],
   "source": [
    "##  Import JSON files into database\n",
    "\n",
    "imported_json_files = []\n",
    "for f in cnp_list:\n",
    "    id_file = f\n",
    "    try:\n",
    "        r = requests.get('https://data.cerl.org/thesaurus/'+ id_file +'?format=json&pretty')\n",
    "        time.sleep(0.1)\n",
    "        json_doc = r.text.replace(\"'\", \"''\")\n",
    "        ## STOP ##          cn.execute(\"INSERT INTO new_json_files (id_entity, json, timestmp) VALUES ('\"+ \\\n",
    "                  f + \"','\" + json_doc + \"', datetime('now', 'localtime'))\")\n",
    "        ## STOP ##         cn.commit()\n",
    "    except Exception as e:         \n",
    "        imported_json_files.append([f,False,e])\n",
    "    else:\n",
    "        imported_json_files.append([f,True, ''])"
   ]
  },
  {
   "cell_type": "code",
   "execution_count": null,
   "metadata": {},
   "outputs": [],
   "source": [
    "print(imported_json_files[-5:])\n",
    "len(imported_json_files)"
   ]
  },
  {
   "cell_type": "code",
   "execution_count": null,
   "metadata": {},
   "outputs": [],
   "source": [
    "### write imported file list\n",
    "with open('db_stores/imported_json_files.csv', 'w', newline='') as csvfile:\n",
    "    #  STOP  #     r_writer = csv.writer(csvfile, delimiter=',',\n",
    "                            quotechar='|', quoting=csv.QUOTE_MINIMAL)\n",
    "\n",
    "    r_writer.writerow(['file', 'result', 'error'])\n",
    "    for l in imported_json_files:\n",
    "        r_writer.writerow(l)"
   ]
  },
  {
   "cell_type": "code",
   "execution_count": null,
   "metadata": {},
   "outputs": [],
   "source": [
    "cn.close()"
   ]
  },
  {
   "cell_type": "code",
   "execution_count": null,
   "metadata": {},
   "outputs": [],
   "source": [
    "### there where no errors at import\n",
    "errors = []\n",
    "for e in imported_json_files:\n",
    "    if e[1] == False:\n",
    "        errors.append(e[0])\n",
    "        ### Errors : 0\n",
    "len(errors)"
   ]
  },
  {
   "cell_type": "markdown",
   "metadata": {},
   "source": [
    "### Count the produced data"
   ]
  },
  {
   "cell_type": "code",
   "execution_count": null,
   "metadata": {},
   "outputs": [],
   "source": [
    "cn = sql.connect('db_stores/CERL.db')"
   ]
  },
  {
   "cell_type": "code",
   "execution_count": null,
   "metadata": {},
   "outputs": [],
   "source": [
    "### Imported : 3019\n",
    "c = cn.cursor()\n",
    "# STOP #  c.execute('DELETE FROM new_json_files')\n",
    "c.execute('SELECT COUNT(*) FROM new_json_files')\n",
    "print(c.fetchone()[0])"
   ]
  },
  {
   "cell_type": "code",
   "execution_count": null,
   "metadata": {},
   "outputs": [],
   "source": [
    "cn.close()"
   ]
  },
  {
   "cell_type": "markdown",
   "metadata": {},
   "source": [
    "# Explore the inserted data"
   ]
  },
  {
   "cell_type": "markdown",
   "metadata": {},
   "source": [
    "### Explore the JSON documents' structure"
   ]
  },
  {
   "cell_type": "code",
   "execution_count": null,
   "metadata": {},
   "outputs": [],
   "source": [
    "cn = sql.connect('db_stores/CERL.db')"
   ]
  },
  {
   "cell_type": "code",
   "execution_count": null,
   "metadata": {},
   "outputs": [],
   "source": [
    "c = cn.cursor()\n",
    "c.execute('SELECT * FROM new_json_files')\n",
    "result_l = c.fetchall()"
   ]
  },
  {
   "cell_type": "markdown",
   "metadata": {},
   "source": [
    "#### Inspect stored data (example)"
   ]
  },
  {
   "cell_type": "code",
   "execution_count": null,
   "metadata": {},
   "outputs": [],
   "source": [
    "print(len(result_l))\n",
    "## inspect result ##   pprint.pprint(result_l[:2])\n",
    "\n",
    "d = ast.literal_eval(result_l[1][3])\n",
    "type(d)"
   ]
  },
  {
   "cell_type": "code",
   "execution_count": null,
   "metadata": {},
   "outputs": [],
   "source": [
    "print(d['_id'])\n",
    "z = [print(e) for e in d['data']['extDataset'] if e['typeOfResource'] == 'orig']\n",
    "[(e['start'], e['end']) for e in d['data']['bioDates'] ][0]"
   ]
  },
  {
   "cell_type": "code",
   "execution_count": null,
   "metadata": {},
   "outputs": [],
   "source": [
    "### Keys ('fields') available in a specific document\n",
    "\n",
    "(d['_id'],d['data'].keys())"
   ]
  },
  {
   "cell_type": "markdown",
   "metadata": {},
   "source": [
    "###  Parse the JSON files\n",
    "\n",
    "\n",
    "After storing the JSON web documents into the SQLite database you have to parse them into a dictionary Python document in order to be able to extract information.\n",
    "\n",
    "During this process, 16 documents out of 3101 showed to have '502 Proxy Error'. See below.\n",
    "\n"
   ]
  },
  {
   "cell_type": "code",
   "execution_count": null,
   "metadata": {},
   "outputs": [],
   "source": [
    "documents = []\n",
    "keys_list = []\n",
    "cerl_cpn_list = []\n",
    "errors = []\n",
    "for i in result_l:\n",
    "    try:\n",
    "        ## used ast.literal_eval instead of json.loads\n",
    "        d = ast.literal_eval(i[3])\n",
    "        keys_list.append([i[1],list(d['data'].keys())])\n",
    "        documents.append([])\n",
    "    except Exception as e:\n",
    "        errors.append([i[0], e])\n",
    "        cerl_cpn_list.append([i[1], e])"
   ]
  },
  {
   "cell_type": "code",
   "execution_count": null,
   "metadata": {},
   "outputs": [],
   "source": [
    "### Errors list\n",
    "\n",
    "print(len(errors))\n",
    "l_errors = [e[0] for e in errors]\n",
    "print(l_errors)\n",
    "print(len(cerl_cpn_list))\n",
    "lcpn_errors = [e[0] for e in cerl_cpn_list]\n",
    "print(lcpn_errors)"
   ]
  },
  {
   "cell_type": "code",
   "execution_count": null,
   "metadata": {},
   "outputs": [],
   "source": [
    "len(keys_list)"
   ]
  },
  {
   "cell_type": "markdown",
   "metadata": {},
   "source": [
    "### Get missing data (because of proxy errors) and update the database\n",
    "\n",
    "\n",
    "At first inspection, no data appeared to be missing but parsing the JSON data in the next step showed that around 0.5 % of the files had not been correctly retrieved.\n",
    "\n",
    "The list of not retrieved files was stored in the _lcpn_errors_ variable.\n",
    "\n",
    "\n",
    "The followin script retreives once again the missing files and updates the JSON fields with the new data. \n",
    "\n"
   ]
  },
  {
   "cell_type": "code",
   "execution_count": null,
   "metadata": {},
   "outputs": [],
   "source": [
    "cn = sql.connect('db_stores/CERL.db')\n",
    "c = cn.cursor()"
   ]
  },
  {
   "cell_type": "code",
   "execution_count": null,
   "metadata": {},
   "outputs": [],
   "source": [
    "### Exemple of found errors, before new retrieval: \n",
    "#  ['cnp01880566', 'cnp01342319', 'cnp00611867', 'cnp01341256']\n",
    "\n",
    "errors = lcpn_errors\n",
    "errors"
   ]
  },
  {
   "cell_type": "code",
   "execution_count": null,
   "metadata": {},
   "outputs": [],
   "source": [
    "##  Import JSON files into database\n",
    "\n",
    "imported_json_files = []\n",
    "for f in errors:\n",
    "    id_file = f\n",
    "    try:\n",
    "        r = requests.get('https://data.cerl.org/thesaurus/'+ id_file +'?format=json&pretty')\n",
    "        time.sleep(0.2)\n",
    "        json_doc = r.text.replace(\"'\", \"''\")\n",
    "        \n",
    "        ## STOP ##          \n",
    "        c.execute(\"UPDATE new_json_files SET json = '\"+ json_doc  \\\n",
    "                  + \"', timestmp = datetime('now', 'localtime') WHERE id_entity = '\" \\\n",
    "                 + str(id_file) + \"'\")\n",
    "    except Exception as e:         \n",
    "        imported_json_files.append([f,False,e])\n",
    "    else:\n",
    "        imported_json_files.append([f,True, ''])\n",
    "\n",
    "## STOP ##   cn.commit()     \n",
    "\n",
    "# imported_json_files"
   ]
  },
  {
   "cell_type": "code",
   "execution_count": null,
   "metadata": {},
   "outputs": [],
   "source": [
    "cn.close()"
   ]
  },
  {
   "cell_type": "markdown",
   "metadata": {},
   "source": [
    "# Split the 'fields' in the database\n",
    "\n",
    "This step is needed in order to facilitate data inspection and information extraction.\n",
    "\n",
    "A new table is created with the values of the fiels"
   ]
  },
  {
   "cell_type": "markdown",
   "metadata": {},
   "source": [
    "## Get the keys' (fields') list and frequency\n",
    "\n",
    "Fields description:  https://www.cerl.org/resources/cerl_thesaurus/editing/format\n"
   ]
  },
  {
   "cell_type": "markdown",
   "metadata": {},
   "source": [
    "### Count fields per document"
   ]
  },
  {
   "cell_type": "code",
   "execution_count": null,
   "metadata": {},
   "outputs": [],
   "source": [
    "keys_list[:2]"
   ]
  },
  {
   "cell_type": "code",
   "execution_count": null,
   "metadata": {},
   "outputs": [],
   "source": [
    "count_list = []\n",
    "for l in keys_list:\n",
    "    count_list.append([l[0],Counter(l[1])])\n",
    "    "
   ]
  },
  {
   "cell_type": "code",
   "execution_count": null,
   "metadata": {},
   "outputs": [],
   "source": [
    "z = [print(c) for c in count_list[10][1].items()]"
   ]
  },
  {
   "cell_type": "code",
   "execution_count": null,
   "metadata": {},
   "outputs": [],
   "source": [
    "print(len(count_list))\n",
    "count_list[10][0], list(count_list[10][1].values()), list(count_list[10][1].keys())"
   ]
  },
  {
   "cell_type": "markdown",
   "metadata": {},
   "source": [
    "###  Test if any document has multiple instances of the same field\n",
    "\n",
    "No document has twice or more the same field. Probably these are database fields in the original information system."
   ]
  },
  {
   "cell_type": "code",
   "execution_count": null,
   "metadata": {},
   "outputs": [],
   "source": [
    "multiple_values_list = []\n",
    "fields_per_document = []\n",
    "reference_list = []\n",
    "for l in count_list:\n",
    "    freq_single = 0\n",
    "    freq_multiple = 0\n",
    "    multiple_list = []\n",
    "    for i in l[1].items():\n",
    "        if i[1] > 1:\n",
    "            freq_multiple += 1\n",
    "            multiple_list.append(i)\n",
    "        else:\n",
    "            freq_single += 1\n",
    "    multiple_values_list.append([l[0],freq_single, freq_multiple, multiple_list])\n",
    "len(multiple_values_list)"
   ]
  },
  {
   "cell_type": "code",
   "execution_count": null,
   "metadata": {},
   "outputs": [],
   "source": [
    "a = [i[2] for i in multiple_values_list if i[2] > 0]\n",
    "print(len(a))\n",
    "multiple_values_list[10]"
   ]
  },
  {
   "cell_type": "code",
   "execution_count": null,
   "metadata": {},
   "outputs": [],
   "source": [
    "[print(i[0]) for i in multiple_values_list if i[2] > 0 ]"
   ]
  },
  {
   "cell_type": "markdown",
   "metadata": {},
   "source": [
    "### Fields frequency per document"
   ]
  },
  {
   "cell_type": "code",
   "execution_count": null,
   "metadata": {},
   "outputs": [],
   "source": [
    "sl = sorted(Counter([i[1] for i in multiple_values_list]).items(), key = itemgetter(0))\n",
    "print(sl)"
   ]
  },
  {
   "cell_type": "code",
   "execution_count": 228,
   "metadata": {
    "tags": []
   },
   "outputs": [
    {
     "data": {
      "image/png": "[encoded data removed]",
      "text/plain": [
       "<Figure size 864x432 with 1 Axes>"
      ]
     },
     "metadata": {
      "needs_background": "light"
     },
     "output_type": "display_data"
    }
   ],
   "source": [
    "### https://matplotlib.org/stable/gallery/lines_bars_and_markers/barchart.html\n",
    "\n",
    "freq = [l[0] for l in sl]\n",
    "height = [l[1] for l in sl]\n",
    "\n",
    "x = np.arange(len(freq))  # the label locations\n",
    "width = 0.7  # the width of the bars\n",
    "\n",
    "fig, ax = plt.subplots( figsize=(12,6))\n",
    "\n",
    "rects1 = ax.bar(x, height, width, label='Frequency')\n",
    "\n",
    "try: \n",
    "    # Add some text for labels, title and custom x-axis tick labels, etc.\n",
    "    ax.set_ylabel('Frequency')\n",
    "    ax.set_xlabel('Number of fields per document')\n",
    "    ax.set_title('Frequency by number of fields per document')\n",
    "    ax.set_xticks(x)\n",
    "    ax.set_xticklabels(freq)\n",
    "except Exception as e:\n",
    "    print(e)\n",
    "\n",
    "ax.legend()\n",
    "\n",
    "def autolabel(rects):\n",
    "    \"\"\"Attach a text label above each bar in *rects*, displaying its height.\"\"\"\n",
    "    for rect in rects:\n",
    "        height = rect.get_height()\n",
    "        ax.annotate('{}'.format(height),\n",
    "                    xy=(rect.get_x() + rect.get_width() / 2, height),\n",
    "                    xytext=(0, 3),  # 3 points vertical offset\n",
    "                    textcoords=\"offset points\",\n",
    "                    ha='center', va='bottom')\n",
    "\n",
    "autolabel(rects1)\n",
    "\n",
    "fig.tight_layout()\n",
    "\n",
    "plt.show()"
   ]
  },
  {
   "cell_type": "markdown",
   "metadata": {},
   "source": [
    "### Field total frequency "
   ]
  },
  {
   "cell_type": "code",
   "execution_count": 226,
   "metadata": {},
   "outputs": [
    {
     "name": "stdout",
     "output_type": "stream",
     "text": [
      "19\n"
     ]
    },
    {
     "data": {
      "text/plain": [
       "[('typeOfEntry', 3091),\n",
       " ('heading', 3091),\n",
       " ('external', 3087),\n",
       " ('actNote', 2826),\n",
       " ('extDataset', 2751),\n",
       " ('foundIn', 2730),\n",
       " ('name', 2729),\n",
       " ('bioDates', 2705),\n",
       " ('generalNote', 2558),\n",
       " ('geoNote', 2302),\n",
       " ('imprintSource', 2061),\n",
       " ('place', 1846),\n",
       " ('gender', 1644),\n",
       " ('previousId', 1496),\n",
       " ('related', 1176),\n",
       " ('actDates', 848),\n",
       " ('extResource', 632),\n",
       " ('sign', 46),\n",
       " ('booksOwned', 7)]"
      ]
     },
     "execution_count": 226,
     "metadata": {},
     "output_type": "execute_result"
    }
   ],
   "source": [
    "fields_list = []\n",
    "for l in keys_list:\n",
    "    fields_list += l[1]\n",
    "c_list = Counter(fields_list)\n",
    "d_list = sorted(dict(c_list).items(), key = itemgetter(1), reverse = True)\n",
    "print(len(d_list))\n",
    "d_list"
   ]
  },
  {
   "cell_type": "code",
   "execution_count": 227,
   "metadata": {},
   "outputs": [
    {
     "data": {
      "image/png": "[encoded data removed]",
      "text/plain": [
       "<Figure size 1080x432 with 1 Axes>"
      ]
     },
     "metadata": {
      "needs_background": "light"
     },
     "output_type": "display_data"
    }
   ],
   "source": [
    "### https://matplotlib.org/stable/gallery/lines_bars_and_markers/barchart.html\n",
    "\n",
    "freq = [l[0] for l in d_list]\n",
    "height = [l[1] for l in d_list]\n",
    "\n",
    "width = 0.7  # the width of the bars\n",
    "\n",
    "fig, ax = plt.subplots(figsize=(15,6))\n",
    "\n",
    "rects1 = ax.bar(freq, height, width, label='Frequency')\n",
    "\n",
    "try: \n",
    "    # Add some text for labels, title and custom x-axis tick labels, etc.\n",
    "    ax.set_ylabel('Frequency')\n",
    "    ax.set_title('Frequency by number of fields per document')\n",
    "    ax.set_xticks(freq)\n",
    "    ax.set_xticklabels(freq, rotation = 45)\n",
    "except Exception as e:\n",
    "    print(e)\n",
    "\n",
    "ax.legend()\n",
    "\n",
    "def autolabel(rects):\n",
    "    \"\"\"Attach a text label above each bar in *rects*, displaying its height.\"\"\"\n",
    "    for rect in rects:\n",
    "        height = rect.get_height()\n",
    "        ax.annotate('{}'.format(height),\n",
    "                    xy=(rect.get_x() + rect.get_width() / 2, height),\n",
    "                    xytext=(0, 3),  # 3 points vertical offset\n",
    "                    textcoords=\"offset points\",\n",
    "                    ha='center', va='bottom')\n",
    "\n",
    "autolabel(rects1)\n",
    "\n",
    "fig.tight_layout()\n",
    "\n",
    "plt.show()"
   ]
  },
  {
   "cell_type": "markdown",
   "metadata": {},
   "source": [
    "### Create new table in SQLite database with splitted fields"
   ]
  },
  {
   "cell_type": "code",
   "execution_count": null,
   "metadata": {},
   "outputs": [],
   "source": [
    "cn = sql.connect('db_stores/CERL.db')\n",
    "c = cn.cursor()\n",
    "\n",
    "# Create table\n",
    "# c.execute('''DROP TABLE person_properties;''')\n",
    "c.execute('''CREATE TABLE person_properties\n",
    "             (pk_person_properties INTEGER PRIMARY KEY, fk_new_json_files, id_person text, std_name text,\n",
    "             typeOfEntry text, heading text, external text, actNote text, extDataset text, name text, foundIn text, \n",
    "             bioDates text, generalNote text, geoNote text, imprintSource text, place text, gender text, previousId text, \n",
    "             related text, actDates text, extResource text, sign text, booksOwned text, timestmp text,\n",
    "             FOREIGN KEY(fk_new_json_files) REFERENCES new_json_files(pk_new_json_files))''')\n",
    "\n",
    "\n",
    "# Save (commit) the changes \n",
    "# STOP # cn.commit()\n",
    "cn.close()"
   ]
  },
  {
   "cell_type": "markdown",
   "metadata": {},
   "source": [
    "### CERL fields description\n",
    "\n",
    "* Fields description: https://www.cerl.org/resources/cerl_thesaurus/editing/format\n",
    "* Codes: https://www.cerl.org/help/thesaurus/main\n",
    "* Available search fields: https://www.cerl.org/resources/cerl_thesaurus/editing/indexing"
   ]
  },
  {
   "cell_type": "markdown",
   "metadata": {},
   "source": [
    "#### Prepare inserts"
   ]
  },
  {
   "cell_type": "code",
   "execution_count": null,
   "metadata": {},
   "outputs": [],
   "source": [
    "documents = []\n",
    "inserts = []\n",
    "errors = []\n",
    "for i in result_l:\n",
    "    try:\n",
    "        pk = i[0]\n",
    "        id = i[1]\n",
    "        d = json.loads(i[3])\n",
    "\n",
    "        try:\n",
    "            typeOfEntry = str(d['data']['typeOfEntry'])\n",
    "        except Exception as e:\n",
    "            typeOfEntry = ''\n",
    "        try:\n",
    "            heading = str(d['data']['heading'])\n",
    "        except Exception as e:\n",
    "            heading = '' \n",
    "        try:\n",
    "            external = str(d['data']['external'])\n",
    "        except Exception as e:\n",
    "            external = ''    \n",
    "        try:\n",
    "            actNote = str(d['data']['actNote'])\n",
    "        except Exception as e:\n",
    "            actNote = ''    \n",
    "        try:\n",
    "            extDataset = str(d['data']['extDataset'])\n",
    "        except Exception as e:\n",
    "            extDataset = ''    \n",
    "        try:\n",
    "            name = str(d['data']['name'])\n",
    "        except Exception as e:\n",
    "            name = ''    \n",
    "        try:\n",
    "            foundIn = str(d['data']['foundIn'])\n",
    "        except Exception as e:\n",
    "            foundIn = ''    \n",
    "        try:\n",
    "            bioDates = str(d['data']['bioDates'])\n",
    "        except Exception as e:\n",
    "            bioDates = ''    \n",
    "        try:\n",
    "            generalNote = str(d['data']['generalNote'])\n",
    "        except Exception as e:\n",
    "            generalNote = ''    \n",
    "        try:\n",
    "            geoNote = str(d['data']['geoNote'])\n",
    "        except Exception as e:\n",
    "            geoNote = ''    \n",
    "        try:\n",
    "            imprintSource = str(d['data']['imprintSource'])\n",
    "        except Exception as e:\n",
    "            imprintSource = ''    \n",
    "        try:\n",
    "            place = str(d['data']['place'])\n",
    "        except Exception as e:\n",
    "            place = ''    \n",
    "        try:\n",
    "            gender = str(d['data']['gender'])\n",
    "        except Exception as e:\n",
    "            gender = ''    \n",
    "        try:\n",
    "            previousId = str(d['data']['previousId'])\n",
    "        except Exception as e:\n",
    "            previousId = ''    \n",
    "        try:\n",
    "            related = str(d['data']['related'])\n",
    "        except Exception as e:\n",
    "            related = ''    \n",
    "        try:\n",
    "            actDates = str(d['data']['actDates'])\n",
    "        except Exception as e:\n",
    "            actDates = ''    \n",
    "        try:\n",
    "            extResource = str(d['data']['extResource'])\n",
    "        except Exception as e:\n",
    "            extResource = ''    \n",
    "        try:\n",
    "            sign = str(d['data']['sign'])\n",
    "        except Exception as e:\n",
    "            sign = ''    \n",
    "        try:\n",
    "            booksOwned = str(d['data']['booksOwned'])\n",
    "        except Exception as e:\n",
    "            booksOwned = ''    \n",
    "\n",
    "        inserts.append([id, pk, typeOfEntry, heading, external, actNote, extDataset, name, foundIn, bioDates, generalNote, geoNote, imprintSource, place, gender, previousId, related, actDates, extResource, sign, booksOwned ])\n",
    "        \n",
    "    except Exception as e:\n",
    "        errors.append([i[0], e])\n",
    "\n",
    "\n",
    "## inspect ## inserts[5:7]        "
   ]
  },
  {
   "cell_type": "code",
   "execution_count": null,
   "metadata": {},
   "outputs": [],
   "source": [
    "c = cn.cursor()\n",
    "\n",
    "try:\n",
    "\n",
    "    # Empty table\n",
    "    # c.execute('''DELETE FROM person_properties;''')\n",
    "    # Fill table\n",
    "    c.executemany('''INSERT INTO person_properties (id_person,fk_new_json_files,  \n",
    "                 typeOfEntry, heading, external, actNote, extDataset, name, foundIn, \n",
    "                 bioDates, generalNote, geoNote, imprintSource, place, gender, previousId, \n",
    "                 related, actDates, extResource, sign, booksOwned, timestmp) \n",
    "                 VALUES (?,?,?,?,?,?,?,?,?,?,?,?,?,?,?,?,?,?,?,?,?, datetime('now', 'localtime'))''', inserts)\n",
    "\n",
    "except Exception as e:\n",
    "    print(e)\n",
    "    pass\n",
    "\n",
    "# Save (commit) the changes \n",
    "# STOP # cn.commit()\n",
    "cn.close()"
   ]
  },
  {
   "cell_type": "code",
   "execution_count": null,
   "metadata": {},
   "outputs": [],
   "source": []
  },
  {
   "cell_type": "markdown",
   "metadata": {},
   "source": [
    "# Explore data\n",
    "\n",
    "\n",
    "\n",
    " \n",
    "* CERL: [Insitution and file codes in heading fields](https://cerl.org/resources/cerl_thesaurus/editing/format/list_of_insitution_and_file_codes_used_in_heading_fields)"
   ]
  },
  {
   "cell_type": "markdown",
   "metadata": {},
   "source": [
    "## Produce standard name"
   ]
  },
  {
   "cell_type": "code",
   "execution_count": null,
   "metadata": {},
   "outputs": [],
   "source": [
    "cn = sql.connect('db_stores/CERL.db')\n",
    "c = cn.cursor()\n",
    "query = \"\"\"\n",
    "SELECT pk_person_properties, heading \n",
    "FROM person_properties\n",
    "\"\"\"\n",
    "c.execute(query)\n",
    "cl = c.fetchall()\n",
    "cn.close()\n",
    "len(cl)"
   ]
  },
  {
   "cell_type": "code",
   "execution_count": null,
   "metadata": {},
   "outputs": [],
   "source": [
    "names_list = []\n",
    "for i in cl:\n",
    "    part = (ast.literal_eval(i[1]))[0]['part']\n",
    "    try:\n",
    "        entry = part[0]['entry']\n",
    "    except Exception as e:\n",
    "        entry = ''\n",
    "    try:\n",
    "        firstname = ', ' + part[1]['firstname']\n",
    "    except Exception as e:\n",
    "        firstname = ''\n",
    "    names_list.append([entry + firstname, i[0]])\n",
    "\n",
    "# Inspect result\n",
    "names_list[3000]"
   ]
  },
  {
   "cell_type": "code",
   "execution_count": null,
   "metadata": {},
   "outputs": [],
   "source": []
  },
  {
   "cell_type": "code",
   "execution_count": null,
   "metadata": {},
   "outputs": [],
   "source": [
    "cn = sql.connect('db_stores/CERL.db')\n",
    "c = cn.cursor()\n",
    "\n",
    "try:\n",
    "    c.executemany(\"UPDATE person_properties SET std_name = ? WHERE pk_person_properties = ? \", names_list)\n",
    "except Exception as e:\n",
    "    print(e)\n",
    "    pass\n",
    "\n",
    "# Save (commit) the changes\n",
    "# STOP #  cn.commit()\n"
   ]
  },
  {
   "cell_type": "code",
   "execution_count": null,
   "metadata": {},
   "outputs": [],
   "source": [
    "c = cn.cursor()\n",
    "query = \"\"\"\n",
    "SELECT pk_person_properties, fk_new_json_files, std_name \n",
    "FROM person_properties\n",
    "\"\"\"\n",
    "c.execute(query)\n",
    "cl = c.fetchall()\n",
    "len(cl)"
   ]
  },
  {
   "cell_type": "code",
   "execution_count": null,
   "metadata": {},
   "outputs": [],
   "source": [
    "names_list = [[i[2], i[1]] for i in cl]\n",
    "names_list[5]"
   ]
  },
  {
   "cell_type": "code",
   "execution_count": null,
   "metadata": {},
   "outputs": [],
   "source": [
    "c = cn.cursor()\n",
    "\n",
    "\n",
    "try:\n",
    "    c.executemany(\"UPDATE new_json_files SET entity_std_name = ? WHERE pk_new_json_files = ? \", names_list)\n",
    "except Exception as e:\n",
    "    print(e)\n",
    "    pass\n",
    "\n",
    "# Save (commit) the changes\n",
    "# STOP #  \n",
    "cn.commit()\n"
   ]
  },
  {
   "cell_type": "code",
   "execution_count": null,
   "metadata": {},
   "outputs": [],
   "source": [
    "cn.close()"
   ]
  },
  {
   "cell_type": "markdown",
   "metadata": {},
   "source": [
    "## New table to store splitted properties"
   ]
  },
  {
   "cell_type": "code",
   "execution_count": null,
   "metadata": {},
   "outputs": [],
   "source": [
    "cn = sql.connect('db_stores/CERL.db')\n",
    "c = cn.cursor()\n",
    "\n",
    "# DROP table !\n",
    "#  c.execute('''DROP TABLE entity_property;''')\n",
    "\n",
    "try:\n",
    "    c.execute('''CREATE TABLE entity_property\n",
    "             (pk_entity_property INTEGER PRIMARY KEY, fk_new_json_files,\n",
    "             property text, value text, \n",
    "             add_prop_1 text, add_val_1 text, \n",
    "             add_prop_2 text, add_val_2 text, \n",
    "             add_prop_3 text, add_val_3 text, \n",
    "             timestmp text,\n",
    "             FOREIGN KEY(fk_new_json_files) REFERENCES new_json_files(pk_new_json_files))''')\n",
    "except Exception as e:\n",
    "    print(e)\n",
    "    \n",
    "# Save (commit) the changes\n",
    "# STOP #  cn.commit()      \n",
    "\n",
    "cn.close()"
   ]
  },
  {
   "cell_type": "markdown",
   "metadata": {},
   "source": [
    "## Get dates"
   ]
  },
  {
   "cell_type": "code",
   "execution_count": null,
   "metadata": {},
   "outputs": [],
   "source": [
    "cn = sql.connect('db_stores/CERL.db')\n",
    "c = cn.cursor()\n",
    "query = \"\"\"\n",
    "SELECT fk_new_json_files, bioDates, pk_person_properties\n",
    "FROM person_properties\n",
    "\"\"\"\n",
    "c.execute(query)\n",
    "cl = c.fetchall()\n",
    "cn.close()\n",
    "len(cl)"
   ]
  },
  {
   "cell_type": "code",
   "execution_count": null,
   "metadata": {},
   "outputs": [],
   "source": [
    "properties = []\n",
    "try: \n",
    "    jl = ast.literal_eval(cl[0][1])\n",
    "    print(jl)\n",
    "    for e in jl:\n",
    "        print(e)\n",
    "        print(e['start'])        \n",
    "        print(e['end'])\n",
    "        print(e['text'])\n",
    "except Exception as e:\n",
    "    print(e)"
   ]
  },
  {
   "cell_type": "code",
   "execution_count": null,
   "metadata": {},
   "outputs": [],
   "source": [
    "properties = []\n",
    "errors = []\n",
    "errors_field = []\n",
    "for l in cl:\n",
    "    try:\n",
    "        jl = ast.literal_eval(l[1])\n",
    "        for k in jl:\n",
    "            try:\n",
    "                properties.append([l[0], 'bioStart', str(k['start'])])\n",
    "            except Exception as e:\n",
    "                errors.append([l[0],e])\n",
    "            try:\n",
    "                properties.append([l[0], 'bioEnd', str(k['end'])])\n",
    "            except Exception as e:\n",
    "                errors.append([l[0],e])\n",
    "            try:\n",
    "                properties.append([l[0], 'bioText', str(k['text'])])\n",
    "            except Exception as e:\n",
    "                errors.append([l[0],e])\n",
    "    except Exception as e:\n",
    "         errors_field.append([l[0],e])\n",
    "            \n",
    "            \n",
    "print(len(properties), len(errors), len(errors_field))\n",
    "properties[1000]"
   ]
  },
  {
   "cell_type": "code",
   "execution_count": null,
   "metadata": {},
   "outputs": [],
   "source": [
    "cn = sql.connect('db_stores/CERL.db')\n",
    "c = cn.cursor()\n",
    "try:    \n",
    "    # Empty table # c.execute('''DELETE FROM person_properties;''')\n",
    "    # Fill table\n",
    "    c.executemany('''INSERT INTO entity_property (fk_new_json_files,  \n",
    "                 property, value, timestmp) \n",
    "                 VALUES (?,?,?, datetime('now', 'localtime'))''', properties)\n",
    "\n",
    "except Exception as e:\n",
    "    print(e)\n",
    "\n",
    "# Save (commit) the changes\n",
    "# STOP #  cn.commit()\n",
    "cn.close()"
   ]
  },
  {
   "cell_type": "code",
   "execution_count": null,
   "metadata": {},
   "outputs": [],
   "source": [
    "cn = sql.connect('db_stores/CERL.db')\n",
    "c = cn.cursor()\n",
    "query = \"\"\"\n",
    "SELECT MIN(psp.value)\n",
    "FROM entity_property psp\n",
    "WHERE property = 'bioStart'\n",
    "GROUP BY fk_new_json_files;\n",
    "\"\"\"\n",
    "c.execute(query)\n",
    "cl = c.fetchall()\n",
    "cn.close()\n",
    "len(cl)"
   ]
  },
  {
   "cell_type": "markdown",
   "metadata": {},
   "source": [
    "### Plot dates"
   ]
  },
  {
   "cell_type": "code",
   "execution_count": null,
   "metadata": {},
   "outputs": [],
   "source": [
    "c_list = Counter([e[0] for e in cl])\n",
    "d_list = [[int(e[0]), e[1]] for e in sorted(dict(c_list).items(), key = itemgetter(0), reverse = False) if e[0] >= '1400']\n",
    "print(len(d_list))\n",
    "print(d_list[:10])"
   ]
  },
  {
   "cell_type": "code",
   "execution_count": null,
   "metadata": {},
   "outputs": [],
   "source": [
    "### Create a list of 20 years periods, i.e. the list of the first year, starting 1381\n",
    "g_list = []\n",
    "period = 20\n",
    "d_start = 1381\n",
    "i = 0\n",
    "g_list = []\n",
    "g_list.append(d_start)\n",
    "\n",
    "while i < 21:\n",
    "    d_start = d_start + period\n",
    "    g_list.append(d_start)\n",
    "    i += 1"
   ]
  },
  {
   "cell_type": "code",
   "execution_count": null,
   "metadata": {},
   "outputs": [],
   "source": [
    "print(g_list[:2])\n",
    "min(g_list), max(g_list)"
   ]
  },
  {
   "cell_type": "code",
   "execution_count": null,
   "metadata": {},
   "outputs": [],
   "source": [
    "# Group by 20 years periods\n",
    "i_list = []\n",
    "for i in g_list:\n",
    "    i_n = 0\n",
    "    for l in d_list:\n",
    "        if l[0] >= i and l[0] < (i + 20):\n",
    "            i_n = i_n + l[1]\n",
    "    i_list.append([i, i_n])        "
   ]
  },
  {
   "cell_type": "code",
   "execution_count": null,
   "metadata": {},
   "outputs": [],
   "source": [
    "print(i_list)"
   ]
  },
  {
   "cell_type": "code",
   "execution_count": 229,
   "metadata": {},
   "outputs": [
    {
     "data": {
      "image/png": "[encoded data removed]",
      "text/plain": [
       "<Figure size 1080x504 with 1 Axes>"
      ]
     },
     "metadata": {
      "needs_background": "light"
     },
     "output_type": "display_data"
    }
   ],
   "source": [
    "### https://matplotlib.org/stable/gallery/lines_bars_and_markers/barchart.html\n",
    "\n",
    "freq = [l[0] for l in i_list]\n",
    "height = [l[1] for l in i_list]\n",
    "\n",
    "width = 15/len(i_list)*15  # the width of the bars\n",
    "\n",
    "fig, ax = plt.subplots(figsize=(15,7))\n",
    "\n",
    "rects1 = ax.bar(freq, height, width, label='Frequency')\n",
    "\n",
    "try: \n",
    "    # Add some text for labels, title and custom x-axis tick labels, etc.\n",
    "    ax.set_xlabel('20 year periods')\n",
    "    ax.set_ylabel('Frequency')\n",
    "    ax.set_title('Frequency by number of begin dates per 20 year periods')\n",
    "    ax.set_xticks(freq)\n",
    "    ax.set_xticklabels(freq, rotation = 45)\n",
    "except Exception as e:\n",
    "    print(e)\n",
    "\n",
    "ax.legend()\n",
    "\n",
    "def autolabel(rects):\n",
    "    \"\"\"Attach a text label above each bar in *rects*, displaying its height.\"\"\"\n",
    "    for rect in rects:\n",
    "        height = rect.get_height()\n",
    "        ax.annotate('{}'.format(height),\n",
    "                    xy=(rect.get_x() + rect.get_width() / 2, height),\n",
    "                    xytext=(0, 3),  # 3 points vertical offset\n",
    "                    textcoords=\"offset points\",\n",
    "                    ha='center', va='bottom')\n",
    "\n",
    "autolabel(rects1)\n",
    "\n",
    "fig.tight_layout()\n",
    "\n",
    "plt.show()"
   ]
  },
  {
   "cell_type": "markdown",
   "metadata": {},
   "source": [
    "## Get sameAs URIs"
   ]
  },
  {
   "cell_type": "code",
   "execution_count": null,
   "metadata": {},
   "outputs": [],
   "source": [
    "cn = sql.connect('db_stores/CERL.db')\n",
    "c = cn.cursor()\n",
    "query = \"\"\"\n",
    "SELECT fk_new_json_files, extDataset, pk_person_properties\n",
    "FROM person_properties\n",
    "\"\"\"\n",
    "c.execute(query)\n",
    "cl = c.fetchall()\n",
    "cn.close()\n",
    "len(cl)"
   ]
  },
  {
   "cell_type": "code",
   "execution_count": null,
   "metadata": {},
   "outputs": [],
   "source": [
    "properties = []\n",
    "try: \n",
    "    jl = ast.literal_eval(cl[0][1])\n",
    "    print(jl)\n",
    "except Exception as e:\n",
    "    print(e)"
   ]
  },
  {
   "cell_type": "code",
   "execution_count": null,
   "metadata": {},
   "outputs": [],
   "source": [
    "properties = []\n",
    "errors = []\n",
    "errors_field = []\n",
    "for l in cl:\n",
    "    try:\n",
    "        jl = ast.literal_eval(l[1])\n",
    "        for k in jl:\n",
    "            try:\n",
    "                searchTerm = str(k['searchTerm'])\n",
    "            except Exception as e:\n",
    "                errors.append([l[0],e])\n",
    "            try:\n",
    "                typeOfResource = str(k['typeOfResource'])\n",
    "            except Exception as e:\n",
    "                errors.append([l[0],e])\n",
    "            try:\n",
    "                code = str(k['code'])\n",
    "            except Exception as e:\n",
    "                errors.append([l[0],e])\n",
    "                \n",
    "            properties.append([l[0], 'sameAs', searchTerm, 'typeOfResource', typeOfResource, 'code', code])\n",
    "            \n",
    "    except Exception as e:\n",
    "         errors_field.append([l[0],e])\n",
    "            \n",
    "print(len(properties), len(errors), len(errors_field))\n",
    "properties[1000:1003]"
   ]
  },
  {
   "cell_type": "code",
   "execution_count": null,
   "metadata": {},
   "outputs": [],
   "source": [
    "cn = sql.connect('db_stores/CERL.db')\n",
    "c = cn.cursor()\n",
    "\n",
    "try:    \n",
    "    # Empty table # c.execute('''DELETE FROM person_properties;''')\n",
    "    # Fill table\n",
    "    c.executemany('''INSERT INTO entity_property (fk_new_json_files,  \n",
    "                 property, value, \n",
    "                 add_prop_1, add_val_1, \n",
    "                 add_prop_2, add_val_2, \n",
    "                 timestmp) \n",
    "                 VALUES (?,?,?,?,?,?,?, datetime('now', 'localtime'))''', properties)\n",
    "\n",
    "except Exception as e:\n",
    "    print(e)\n",
    "\n",
    "# Save (commit) the changes\n",
    "# STOP #  cn.commit()\n",
    "\n",
    "cn.close()"
   ]
  },
  {
   "cell_type": "markdown",
   "metadata": {},
   "source": [
    "### Explore references to external sources\n",
    "\n",
    "These SQL queries can be executed directly on the database using a SQLite client, e.g. DBeaver\n",
    "\n",
    "<code>\n",
    "-- Group by type\n",
    "SELECT count(*) AS eff, add_val_1 \n",
    "FROM entity_property psp\n",
    "WHERE property = 'sameAs'\n",
    "GROUP BY add_val_1\n",
    "ORDER BY eff DESC  ;\n",
    "\n",
    "-- Group by origin\n",
    "SELECT count(*) AS eff, add_val_2 \n",
    "FROM entity_property psp\n",
    "WHERE property = 'sameAs'\n",
    "GROUP BY add_val_2\n",
    "ORDER BY eff DESC  ;\n",
    "\n",
    "-- Group by both type and origin\n",
    "SELECT count(*) AS eff, add_val_1, add_val_2 \n",
    "FROM entity_property psp\n",
    "WHERE property = 'sameAs'\n",
    "GROUP BY add_val_1, add_val_2\n",
    "ORDER BY add_val_1, add_val_2;\n",
    "    \n",
    "-- double matching    \n",
    "WITH tw1 AS (\n",
    "SELECT fk_new_json_files, value \n",
    "FROM entity_property psp\n",
    "WHERE property = 'sameAs'\n",
    "AND add_val_1 IN ('orig', 'same')\n",
    "ORDER BY fk_new_json_files\n",
    "),\n",
    "tw2 AS (\n",
    "SELECT DISTINCT t1.fk_new_json_files id1, t2.fk_new_json_files id2\n",
    "FROM tw1 t1, tw1 t2\n",
    "WHERE t1.value = t2.value\n",
    "AND t1.fk_new_json_files &lt; t2.fk_new_json_files\n",
    ")\n",
    "SELECT id2, COUNT(\\*), GROUP_CONCAT(id1)\n",
    "FROM tw2\n",
    "GROUP BY id2\n",
    "HAVING COUNT(\\*) &gt; 1 ;\n",
    "</code>    \n",
    "\n"
   ]
  },
  {
   "cell_type": "code",
   "execution_count": null,
   "metadata": {},
   "outputs": [],
   "source": [
    "cn = sql.connect('db_stores/CERL.db')\n",
    "c = cn.cursor()\n",
    "query = \"\"\"\n",
    "SELECT *\n",
    "FROM entity_property psp\n",
    "WHERE property = 'sameAs'\n",
    "AND add_val_1 IN ('orig', 'same')\n",
    "\"\"\"\n",
    "c.execute(query)\n",
    "cl = c.fetchall()\n",
    "cn.close()\n",
    "print(len(cl))\n",
    "cl[3]"
   ]
  },
  {
   "cell_type": "markdown",
   "metadata": {},
   "source": [
    "## Get places"
   ]
  },
  {
   "cell_type": "code",
   "execution_count": null,
   "metadata": {},
   "outputs": [],
   "source": [
    "cn = sql.connect('db_stores/CERL.db')\n",
    "c = cn.cursor()\n",
    "query = \"\"\"\n",
    "SELECT fk_new_json_files, place, pk_person_properties\n",
    "FROM person_properties\n",
    "\"\"\"\n",
    "c.execute(query)\n",
    "cl = c.fetchall()\n",
    "cn.close()\n",
    "len(cl)"
   ]
  },
  {
   "cell_type": "code",
   "execution_count": null,
   "metadata": {},
   "outputs": [],
   "source": [
    "properties = []\n",
    "try: \n",
    "    jl = ast.literal_eval(cl[1][1])\n",
    "    print(jl)\n",
    "except Exception as e:\n",
    "    print(e)"
   ]
  },
  {
   "cell_type": "code",
   "execution_count": null,
   "metadata": {},
   "outputs": [],
   "source": [
    "properties = []\n",
    "errors = []\n",
    "errors_field = []\n",
    "for l in cl:\n",
    "    try:\n",
    "        jl = ast.literal_eval(l[1])\n",
    "        for k in jl:\n",
    "            try:\n",
    "                typeOfPlace = str(k['typeOfPlace'])\n",
    "            except Exception as e:\n",
    "                typeOfPlace = ''\n",
    "                errors.append([l[0],e])\n",
    "            try:\n",
    "                id = str(k['id'])\n",
    "            except Exception as e:\n",
    "                id = ''\n",
    "                errors.append([l[0],e])\n",
    "            try:\n",
    "                name = str(k['part'][0]['name'])\n",
    "            except Exception as e:\n",
    "                name = ''\n",
    "                errors.append([l[0],e])\n",
    "                \n",
    "            properties.append([l[0], 'idPlace', id, 'typeOfPlace', typeOfPlace, 'name', name])\n",
    "            \n",
    "    except Exception as e:\n",
    "         errors_field.append([l[0],e])\n",
    "            \n",
    "print(len(properties), len(errors), len(errors_field))\n",
    "properties[61:65]"
   ]
  },
  {
   "cell_type": "code",
   "execution_count": null,
   "metadata": {},
   "outputs": [],
   "source": []
  },
  {
   "cell_type": "code",
   "execution_count": null,
   "metadata": {},
   "outputs": [],
   "source": [
    "cn = sql.connect('db_stores/CERL.db')\n",
    "c = cn.cursor()\n",
    "try:    \n",
    "    # Fill table\n",
    "    c.executemany('''INSERT INTO entity_property (fk_new_json_files,  \n",
    "                 property, value, \n",
    "                 add_prop_1, add_val_1, \n",
    "                 add_prop_2, add_val_2, \n",
    "                 timestmp) \n",
    "                 VALUES (?,?,?,?,?,?,?, datetime('now', 'localtime'))''', properties)\n",
    "\n",
    "except Exception as e:\n",
    "    print(e)\n",
    "\n",
    "# Save (commit) the changes\n",
    "# STOP # cn.commit()\n",
    "\n",
    "cn.close()"
   ]
  },
  {
   "cell_type": "markdown",
   "metadata": {},
   "source": [
    "### Inspect the geographical place data\n",
    "\n",
    "It appears that in the data :\n",
    "* the same places have different cnl codes\n",
    "* some places without code have a code (alphabetical order shows this)\n",
    "* in the JSON files are aware of this internal links but they cannot be directly retrieved, the places IDs where not changed in the persons' files after matching\n",
    "* it is therefore unavoidable to have redundancy in the retrieved data\n",
    "* there are also some IDs that are not _cnl_ and therefore must be excluded\n",
    "\n",
    "<code>\n",
    "    \n",
    "SELECT add_val_1,\n",
    "       count( * ) eff\n",
    "  FROM entity_property psp\n",
    " WHERE add_prop_1 = 'typeOfPlace'\n",
    " GROUP BY add_val_1\n",
    " ORDER BY eff DESC;\n",
    "    \n",
    "SELECT value ,\n",
    "       count( * ) eff\n",
    "  FROM entity_property psp\n",
    " WHERE add_prop_1 = 'typeOfPlace'\n",
    " GROUP BY value\n",
    " ORDER BY eff DESC;\n",
    "    \n",
    "    WITH tw1 AS (SELECT DISTINCT value, add_val_2\n",
    "  FROM entity_property psp\n",
    " WHERE add_prop_1 = 'typeOfPlace')\n",
    "SELECT *\n",
    "FROM tw1\n",
    "WHERE value LIKE 'cnl%'\n",
    "ORDER BY add_val_2;\n",
    "    \n",
    "</code>    "
   ]
  },
  {
   "cell_type": "markdown",
   "metadata": {},
   "source": [
    "## Get the JSON files about geogr. places from the CERL server and store them into the SQLite database"
   ]
  },
  {
   "cell_type": "markdown",
   "metadata": {},
   "source": [
    "#### Preparing address list"
   ]
  },
  {
   "cell_type": "code",
   "execution_count": null,
   "metadata": {},
   "outputs": [],
   "source": [
    "cn = sql.connect('db_stores/CERL.db')\n",
    "c = cn.cursor()\n",
    "query = \"\"\"\n",
    "SELECT DISTINCT value\n",
    "  FROM entity_property psp\n",
    " WHERE add_prop_1 = 'typeOfPlace'\n",
    " AND value LIKE 'cnl%'\n",
    "\"\"\"\n",
    "c.execute(query)\n",
    "cl = c.fetchall()\n",
    "cn.close()\n",
    "print(len(cl))\n",
    "cl[1:3]"
   ]
  },
  {
   "cell_type": "code",
   "execution_count": null,
   "metadata": {},
   "outputs": [],
   "source": [
    "id_list = [i[0] for i in cl]\n",
    "print(len(id_list))\n",
    "id_list[1]"
   ]
  },
  {
   "cell_type": "markdown",
   "metadata": {},
   "source": [
    "### Get the data from the CERL API"
   ]
  },
  {
   "cell_type": "code",
   "execution_count": null,
   "metadata": {},
   "outputs": [],
   "source": [
    "cn = sql.connect('db_stores/CERL.db')\n",
    "c = cn.cursor()"
   ]
  },
  {
   "cell_type": "code",
   "execution_count": null,
   "metadata": {},
   "outputs": [],
   "source": [
    "##  Import JSON files into database\n",
    "\n",
    "imported_json_files = []\n",
    "for f in id_list:\n",
    "    id_file = f\n",
    "    try:\n",
    "        r = requests.get('https://data.cerl.org/thesaurus/'+ id_file +'?format=json&pretty')\n",
    "        time.sleep(0.2)\n",
    "        json_doc = r.text.replace(\"'\", \"''\")\n",
    "  \n",
    "        ## STOP ##        \n",
    "        c.execute(\"INSERT INTO new_json_files (id_entity, json, timestmp) VALUES ('\"+ \\\n",
    "                  f + \"','\" + json_doc + \"', datetime('now', 'localtime'))\")\n",
    "  \n",
    "        ## STOP ##        cn.commit()\n",
    "    \n",
    "    except Exception as e:         \n",
    "        imported_json_files.append([f,False,e])\n",
    "    else:\n",
    "        imported_json_files.append([f,True, ''])"
   ]
  },
  {
   "cell_type": "code",
   "execution_count": null,
   "metadata": {},
   "outputs": [],
   "source": [
    "c = cn.cursor()\n",
    "c.execute(\"SELECT COUNT(*) FROM new_json_files WHERE id_entity LIKE 'cnl%'\")\n",
    "print(c.fetchone())\n",
    "cn.close()"
   ]
  },
  {
   "cell_type": "code",
   "execution_count": null,
   "metadata": {},
   "outputs": [],
   "source": [
    "print(imported_json_files[-5:])\n",
    "len(imported_json_files)"
   ]
  },
  {
   "cell_type": "code",
   "execution_count": null,
   "metadata": {},
   "outputs": [],
   "source": [
    "with open('db_stores/imported_json_files_places.csv', 'w', newline='') as csvfile:\n",
    "    #  STOP  #     r_writer = csv.writer(csvfile, delimiter=',',\n",
    "                            quotechar='|', quoting=csv.QUOTE_MINIMAL)\n",
    "\n",
    "    r_writer.writerow(['file', 'result', 'error'])\n",
    "    for l in imported_json_files:\n",
    "        r_writer.writerow(l)"
   ]
  },
  {
   "cell_type": "code",
   "execution_count": null,
   "metadata": {},
   "outputs": [],
   "source": [
    "### there where no errors at import\n",
    "errors = []\n",
    "for e in imported_json_files:\n",
    "    if e[1] == False:\n",
    "        errors.append(e[0])\n",
    "len(errors)        "
   ]
  },
  {
   "cell_type": "markdown",
   "metadata": {},
   "source": [
    "## Explore the inserted data: get the places and geographical coordinates"
   ]
  },
  {
   "cell_type": "markdown",
   "metadata": {},
   "source": [
    "### Add location data"
   ]
  },
  {
   "cell_type": "code",
   "execution_count": null,
   "metadata": {},
   "outputs": [],
   "source": [
    "cn = sql.connect('db_stores/CERL.db')\n",
    "c = cn.cursor()\n",
    "c.execute(\"SELECT pk_new_json_files, id_entity, json FROM new_json_files WHERE id_entity LIKE 'cnl%';\")\n",
    "result_l = c.fetchall()\n",
    "cn.close()"
   ]
  },
  {
   "cell_type": "code",
   "execution_count": null,
   "metadata": {},
   "outputs": [],
   "source": [
    "properties = []\n",
    "errors = []\n",
    "errors_field = []\n",
    "for l in result_l:\n",
    "    try:\n",
    "        k = ast.literal_eval(l[2])\n",
    "        try:\n",
    "            place_st_name = str(k['data']['heading'][0]['part'][0]['entry'])            \n",
    "        except Exception as e:\n",
    "            place_st_name = ''\n",
    "            errors.append([l[0],e])\n",
    "        try:\n",
    "            id = str(k['_id'])\n",
    "        except Exception as e:\n",
    "            id = ''\n",
    "            errors.append([l[0],e])\n",
    "        try:\n",
    "            long = str(k['data']['location']['point']['long'])\n",
    "        except Exception as e:\n",
    "            long = ''\n",
    "            errors.append([l[0],e])\n",
    "        try:\n",
    "            lat = str(k['data']['location']['point']['lat'])\n",
    "        except Exception as e:\n",
    "            lat = ''\n",
    "            errors.append([l[0],e])\n",
    "\n",
    "        properties.append([l[0], 'place_st_name', place_st_name, 'cerl_id', id, 'long', long, 'lat', lat])\n",
    "            \n",
    "    except Exception as e:\n",
    "         errors_field.append([l[1],e])\n",
    "            \n",
    "print(len(properties), len(errors), len(errors_field))"
   ]
  },
  {
   "cell_type": "code",
   "execution_count": null,
   "metadata": {},
   "outputs": [],
   "source": [
    "print(errors_field[:3])\n",
    "errors_id = [i[0] for i in errors_field]\n",
    "\n",
    "### BEWARE : in not empty reload JSON with query\n",
    "errors_id"
   ]
  },
  {
   "cell_type": "markdown",
   "metadata": {},
   "source": [
    "#### Issue : not existing CERL documents\n",
    "\n",
    "These documents are not available any more : 'cnl00017057', 'cnl00017393' – although still referred to in the data"
   ]
  },
  {
   "cell_type": "code",
   "execution_count": null,
   "metadata": {},
   "outputs": [],
   "source": [
    "### Locations are missing...\n",
    "\n",
    "errors[:10]"
   ]
  },
  {
   "cell_type": "markdown",
   "metadata": {},
   "source": [
    "## Produce new entity properties with geog. location"
   ]
  },
  {
   "cell_type": "code",
   "execution_count": null,
   "metadata": {},
   "outputs": [],
   "source": [
    "print(len(properties))\n",
    "properties[61]"
   ]
  },
  {
   "cell_type": "code",
   "execution_count": null,
   "metadata": {},
   "outputs": [],
   "source": [
    "cn = sql.connect('db_stores/CERL.db')\n",
    "c = cn.cursor()\n",
    "\n",
    "try:    \n",
    "    c.executemany('''INSERT INTO entity_property (fk_new_json_files,  \n",
    "                 property, value, \n",
    "                 add_prop_1, add_val_1, \n",
    "                 add_prop_2, add_val_2, \n",
    "                 add_prop_3, add_val_3, \n",
    "                 timestmp) \n",
    "                 VALUES (?,?,?,?,?,?,?,?,?, datetime('now', 'localtime'))''', properties)\n",
    "\n",
    "except Exception as e:\n",
    "    print(e)\n",
    "\n",
    "# Save (commit) the changes\n",
    "# STOP #  cn.commit()\n",
    "\n",
    "cn.close()"
   ]
  },
  {
   "cell_type": "markdown",
   "metadata": {},
   "source": [
    "## Get identical places using long/lat coordinates\n",
    "\n",
    "\n",
    "<code>\n",
    "    WITH tw1 AS (\n",
    "    SELECT group_concat(add_val_1) cerl_ids,\n",
    "           CAST (add_val_2 AS FLOAT) long,\n",
    "           CAST (add_val_3 AS FLOAT) lat,\n",
    "           count( * ),\n",
    "           group_concat(value) noms\n",
    "      FROM entity_property\n",
    "     WHERE add_val_2 > '' AND \n",
    "           add_prop_2 = 'long'\n",
    "     GROUP BY add_val_2,\n",
    "              add_val_3\n",
    "     ORDER BY noms\n",
    ")\n",
    "--SELECT * FROM tw1 ;    \n",
    "SELECT t1.noms,\n",
    "       t1.long,\n",
    "       t1.lat,\n",
    "       t2.noms,\n",
    "       t2.long,\n",
    "       t2.lat\n",
    "  FROM tw1 t1,\n",
    "       tw1 t2\n",
    " WHERE t1.cerl_ids > t2.cerl_ids AND \n",
    "       t1.lat BETWEEN t2.lat - 0.02 AND t2.lat + 0.02 AND \n",
    "       t1.long BETWEEN t2.long - 0.02 AND t2.long + 0.02;\n",
    "</code>    "
   ]
  },
  {
   "cell_type": "markdown",
   "metadata": {},
   "source": [
    "### Create internal references"
   ]
  },
  {
   "cell_type": "code",
   "execution_count": null,
   "metadata": {},
   "outputs": [],
   "source": [
    "result_l[0][0], result_l[0][1], ast.literal_eval(result_l[0][2])['data']['previousId']"
   ]
  },
  {
   "cell_type": "code",
   "execution_count": null,
   "metadata": {},
   "outputs": [],
   "source": []
  },
  {
   "cell_type": "markdown",
   "metadata": {},
   "source": [
    "## Add the references to previous Id numbers of places"
   ]
  },
  {
   "cell_type": "code",
   "execution_count": null,
   "metadata": {},
   "outputs": [],
   "source": [
    "cn = sql.connect('db_stores/CERL.db')\n",
    "c = cn.cursor()\n",
    "c.execute(\"SELECT pk_new_json_files, id_entity, json FROM new_json_files WHERE id_entity LIKE 'cnl%';\")\n",
    "result_l = c.fetchall()\n",
    "cn.close()"
   ]
  },
  {
   "cell_type": "markdown",
   "metadata": {},
   "source": [
    "### Inspect stored data"
   ]
  },
  {
   "cell_type": "code",
   "execution_count": null,
   "metadata": {},
   "outputs": [],
   "source": [
    "print(len(result_l))\n",
    "## inspect result ##   pprint.pprint(result_l[:2])\n",
    "d = json.loads(result_l[1][2])\n",
    "type(d)"
   ]
  },
  {
   "cell_type": "code",
   "execution_count": null,
   "metadata": {},
   "outputs": [],
   "source": [
    " ast.literal_eval(result_l[2][2])['data']['previousId']"
   ]
  },
  {
   "cell_type": "code",
   "execution_count": null,
   "metadata": {},
   "outputs": [],
   "source": [
    "ld = [[z[1],  ast.literal_eval(z[2])['data']['previousId']] for z in result_l[:2]]\n",
    "pprint.pprint(ld)"
   ]
  },
  {
   "cell_type": "markdown",
   "metadata": {},
   "source": [
    "### Add references to previous Id numbers data"
   ]
  },
  {
   "cell_type": "code",
   "execution_count": null,
   "metadata": {},
   "outputs": [],
   "source": [
    "properties = []\n",
    "errors = []\n",
    "errors_field = []\n",
    "for l in result_l:\n",
    "    try:\n",
    "        k = ast.literal_eval(l[2])\n",
    "        kpid_list = []\n",
    "\n",
    "        try:\n",
    "            for kpid in k['data']['previousId']:                \n",
    "                kpid_list.append([l[0], 'cerl_id', l[1], 'previous_cerl_id', kpid])\n",
    "        except Exception as e:\n",
    "            errors.append([l[0],e])\n",
    "\n",
    "        properties += kpid_list\n",
    "        # properties.append([l[0], 'place_st_name', place_st_name, 'cerl_id', id, 'long', long, 'lat', lat])\n",
    "            \n",
    "    except Exception as e:\n",
    "         errors_field.append([l[1],e])\n",
    "            \n",
    "print(len(properties), len(errors), len(errors_field))            "
   ]
  },
  {
   "cell_type": "code",
   "execution_count": null,
   "metadata": {},
   "outputs": [],
   "source": [
    "print(errors_field[:3])\n",
    "errors_id = [i[0] for i in errors_field]\n",
    "\n",
    "### BEWARE : in not empty reload JSON with query\n",
    "errors_id"
   ]
  },
  {
   "cell_type": "markdown",
   "metadata": {},
   "source": [
    "#### Issue : not existing CERL documents\n",
    "\n",
    "These documents are not available any more : 'cnl00017057', 'cnl00017393' – although still referred to in the data"
   ]
  },
  {
   "cell_type": "code",
   "execution_count": null,
   "metadata": {},
   "outputs": [],
   "source": [
    "### Locations are missing...\n",
    "\n",
    "errors[:10]"
   ]
  },
  {
   "cell_type": "markdown",
   "metadata": {},
   "source": [
    "## Produce new Id number correspondences"
   ]
  },
  {
   "cell_type": "code",
   "execution_count": null,
   "metadata": {},
   "outputs": [],
   "source": [
    "print(len(properties))\n",
    "properties[61]"
   ]
  },
  {
   "cell_type": "code",
   "execution_count": null,
   "metadata": {},
   "outputs": [],
   "source": [
    "cn = sql.connect('db_stores/CERL.db')\n",
    "c = cn.cursor()\n",
    "\n",
    "try:    \n",
    "    c.executemany('''INSERT INTO entity_property (fk_new_json_files,  \n",
    "                 property, value, \n",
    "                 add_prop_1, add_val_1, \n",
    "                 timestmp) \n",
    "                 VALUES (?,?,?,?,?, datetime('now', 'localtime'))''', properties)\n",
    "\n",
    "except Exception as e:\n",
    "    print(e)\n",
    "\n",
    "# Save (commit) the changes\n",
    "# STOP # cn.commit()\n",
    "\n",
    "cn.close()"
   ]
  },
  {
   "cell_type": "code",
   "execution_count": null,
   "metadata": {},
   "outputs": [],
   "source": []
  },
  {
   "cell_type": "code",
   "execution_count": null,
   "metadata": {},
   "outputs": [],
   "source": []
  },
  {
   "cell_type": "markdown",
   "metadata": {},
   "source": [
    "# Map births' dates and places"
   ]
  },
  {
   "cell_type": "markdown",
   "metadata": {},
   "source": [
    "### Create new SQL view"
   ]
  },
  {
   "cell_type": "code",
   "execution_count": null,
   "metadata": {},
   "outputs": [],
   "source": [
    "### NEW QUERY VIEW\n",
    "drop_view = \"DROP VIEW v_persons_birth_year_and_place;\"\n",
    "\n",
    "create_view = \"\"\"\n",
    "CREATE VIEW v_persons_birth_year_and_place AS\n",
    "WITH geo_places AS (\n",
    "SELECT value, add_val_1, add_val_2, add_val_3 \n",
    "FROM entity_property ep \n",
    "WHERE ep.property = 'place_st_name'\n",
    "AND LENGTH(add_val_2) > 0),\n",
    "tw1 AS (\n",
    "SELECT DISTINCT njf.pk_new_json_files, njf.id_entity person_id, njf.entity_std_name, ep3.value v1, ep2.value v2,  gp.value v3, gp.add_val_2 v4, gp.add_val_3 v5, ep2.fk_new_json_files \n",
    "FROM entity_property ep2 \n",
    "LEFT JOIN geo_places gp ON gp.add_val_1 = ep2.value \n",
    "LEFT JOIN new_json_files njf ON njf.pk_new_json_files = ep2.fk_new_json_files \n",
    "LEFT JOIN entity_property ep3 ON ep3.fk_new_json_files = ep2.fk_new_json_files AND ep3.property ='bioStart'\n",
    "WHERE ep2.property = 'idPlace'\n",
    "AND LENGTH(ep2.value) > 0\n",
    "AND ep2.add_val_1 = 'brth'\n",
    "AND length(gp.add_val_2) > 0\n",
    "AND ep3.value > '1399'\n",
    "UNION \n",
    "SELECT DISTINCT njf.pk_new_json_files, njf.id_entity person_id, njf.entity_std_name, ep3.value v1, ep2.value v2,  gp.value v3, gp.add_val_2 v4, gp.add_val_3 v5, ep2.fk_new_json_files \n",
    "FROM entity_property ep2 \n",
    "LEFT JOIN entity_property ep4 ON ep4.add_val_1 = ep2.value AND ep4.add_prop_1 = 'previous_cerl_id'\n",
    "LEFT JOIN geo_places gp ON gp.add_val_1 = ep4.value AND ep4.property = 'cerl_id'\n",
    "LEFT JOIN new_json_files njf ON njf.pk_new_json_files = ep2.fk_new_json_files \n",
    "LEFT JOIN entity_property ep3 ON ep3.fk_new_json_files = ep2.fk_new_json_files AND ep3.property ='bioStart'\n",
    "WHERE ep2.property = 'idPlace'\n",
    "AND LENGTH(ep2.value) > 0\n",
    "AND ep2.add_val_1 = 'brth'\n",
    "AND length(gp.add_val_2) > 0\n",
    "AND ep3.value > '1399'\n",
    ")\n",
    "SELECT pk_new_json_files, person_id, entity_std_name, min(v1) AS v1, min(v2), min(v3), min(v4), min(v5) FROM tw1\n",
    "GROUP BY pk_new_json_files, entity_std_name\n",
    "ORDER BY v1;\n",
    "\"\"\""
   ]
  },
  {
   "cell_type": "code",
   "execution_count": null,
   "metadata": {},
   "outputs": [],
   "source": [
    "cn = sql.connect('db_stores/CERL.db')\n",
    "c = cn.cursor()\n",
    "\n",
    "try:    \n",
    "\n",
    "    c.execute(create_view)   # drop_view\n",
    "    cv = c.fetchone()\n",
    "\n",
    "except Exception as e:\n",
    "    print(e)\n",
    "\n",
    "# Save (commit) the changes\n",
    "# STOP # cn.commit()\n",
    "\n",
    "cn.close()"
   ]
  },
  {
   "cell_type": "markdown",
   "metadata": {},
   "source": [
    "### Some persons are present more then once\n",
    "\n",
    "Execute in the SQLite graphical client:\n",
    "\n",
    "<pre><code sql>\n",
    "SELECT MAX(person_id) AS person_id, entity_std_name, \n",
    "v1 ,  \"min(v2)\" , \"min(v3)\", \"min(v4)\", \"min(v5)\", group_concat(person_id), COUNT(*) freq\n",
    "FROM v_persons_birth_year_and_place\n",
    "GROUP BY entity_std_name,  v1 ,  \"min(v2)\" , \"min(v3)\", \"min(v4)\", \"min(v5)\" \n",
    "ORDER BY freq DESC ;\n",
    "\n",
    "\n",
    "\n",
    "SELECT COUNT(*), MAX(person_id), group_concat(person_id),group_concat(entity_std_name), \n",
    "v1 ,  \"min(v2)\" , \"min(v3)\", \"min(v4)\", \"min(v5)\" \n",
    "FROM v_persons_birth_year_and_place\n",
    "GROUP BY  v1 ,  \"min(v2)\" , \"min(v3)\", \"min(v4)\", \"min(v5)\" ;\n",
    "</code> </pre>"
   ]
  },
  {
   "cell_type": "markdown",
   "metadata": {},
   "source": [
    "# Interactively plot the birth dates"
   ]
  },
  {
   "cell_type": "code",
   "execution_count": null,
   "metadata": {},
   "outputs": [],
   "source": [
    "query = \"\"\"\n",
    "SELECT MAX(person_id) AS person_id, entity_std_name, \n",
    "v1 ,  \"min(v2)\" , \"min(v3)\", \"min(v4)\", \"min(v5)\"\n",
    "FROM v_persons_birth_year_and_place\n",
    "GROUP BY entity_std_name,  v1 ,  \"min(v2)\" , \"min(v3)\", \"min(v4)\", \"min(v5)\" \n",
    "ORDER BY v1 ;\n",
    "\"\"\""
   ]
  },
  {
   "cell_type": "code",
   "execution_count": null,
   "metadata": {},
   "outputs": [],
   "source": [
    "cn = sql.connect('db_stores/CERL.db')\n",
    "c = cn.cursor()\n",
    "c.execute(query)\n",
    "result_l = c.fetchall()\n",
    "cn.close()\n",
    "print(len(result_l))\n",
    "result_l[:2]  ## number : 1030 persons"
   ]
  },
  {
   "cell_type": "code",
   "execution_count": null,
   "metadata": {
    "scrolled": true,
    "tags": []
   },
   "outputs": [],
   "source": [
    "df_result = pd.DataFrame(result_l, \\\n",
    "                         columns= ['person_id', 'entity_std_name', \\\n",
    "                                   'birth_year', 'id_place', 'place_label', 'long', 'lat'])\n",
    "df_result.head(10)"
   ]
  },
  {
   "cell_type": "markdown",
   "metadata": {},
   "source": [
    "## Distribution of birth years grouped by periods"
   ]
  },
  {
   "cell_type": "code",
   "execution_count": null,
   "metadata": {
    "scrolled": true,
    "tags": []
   },
   "outputs": [],
   "source": [
    "year_count = df_result.groupby(['birth_year', ], as_index=False) \\\n",
    "      .agg({'person_id': 'count'}).sort_values(by=['birth_year'])\n",
    "print(len(year_count))\n",
    "year_count[:50] #[130:150]"
   ]
  },
  {
   "cell_type": "code",
   "execution_count": null,
   "metadata": {},
   "outputs": [],
   "source": [
    "year_l = year_count.values.tolist() \n",
    "print(year_l[-1:])\n",
    "year_l[:3]"
   ]
  },
  {
   "cell_type": "code",
   "execution_count": null,
   "metadata": {},
   "outputs": [],
   "source": [
    "### Create a list with intervals of 10 years, corresponding approximately to one generation.\n",
    "\n",
    "def create_years_list(period = 10, y_start = 1391, y_end = 1801):\n",
    "\n",
    "    y_list = []\n",
    "    y_list.append(y_start)\n",
    "\n",
    "    while y_start < y_end:\n",
    "        y_start += period\n",
    "        y_list.append(y_start)\n",
    "    return y_list    "
   ]
  },
  {
   "cell_type": "code",
   "execution_count": null,
   "metadata": {},
   "outputs": [],
   "source": [
    "period = 10 \n",
    "y_list = create_years_list(period = period, y_start = 1391, y_end = 1801)\n",
    "print(y_list[:2])\n",
    "min(y_list), max(y_list)"
   ]
  },
  {
   "cell_type": "code",
   "execution_count": null,
   "metadata": {},
   "outputs": [],
   "source": [
    "# Births grouped by periods of 10 years\n",
    "i_list = []\n",
    "for i in y_list:\n",
    "    i_n = 0\n",
    "    for l in year_l:\n",
    "        if int(l[0]) >= i and int(l[0]) < (i + period):\n",
    "            i_n = i_n + l[1]\n",
    "    i_list.append([i, i_n]) \n",
    "print(i_list)"
   ]
  },
  {
   "cell_type": "code",
   "execution_count": null,
   "metadata": {},
   "outputs": [],
   "source": [
    "# Distribution by 10 years periods\n",
    "def interactive_periods(period=10):\n",
    "    \n",
    "    y_list = create_years_list(period = period, y_start = 1391, y_end = 1801)\n",
    "\n",
    "    i_list = []\n",
    "    for i in y_list:\n",
    "        i_n = 0\n",
    "        for l in year_l:\n",
    "            if int(l[0]) >= i and int(l[0]) < (i + period):\n",
    "                i_n = i_n + l[1]\n",
    "        i_list.append([i, i_n]) \n",
    "\n",
    "    periods = [e[0] for e in i_list]\n",
    "    eff = [e[1] for e in i_list]\n",
    "\n",
    "    p1 = plt.bar(periods, eff, width= period - (period * 20 / 100))\n",
    "\n",
    "    plt.xticks([i - period / 2 for i in y_list])\n",
    "    plt.ylabel('Frequency')\n",
    "    plt.title('Births per '+ str(period) +' years')\n",
    "    plt.gcf().set_size_inches(14, 7)\n",
    "    #plt.gca().axes.get_xaxis().set_visible(False)\n",
    "    # supported formats: eps, pdf, pgf, png, ps, raw, rgba, svg, svgz\n",
    "    #plt.savefig('exported_pictures/effectifs_naissances_par_annee.png', dpi=100, bbox_inches = \"tight\") #pdf, svg\n",
    "    plt.xticks(rotation=45)\n",
    "    plt.show()\n"
   ]
  },
  {
   "cell_type": "code",
   "execution_count": null,
   "metadata": {},
   "outputs": [],
   "source": [
    "i = interact(interactive_periods, period=IntSlider(min=10, max=100, step=10, value=20))"
   ]
  },
  {
   "cell_type": "code",
   "execution_count": null,
   "metadata": {},
   "outputs": [],
   "source": []
  },
  {
   "cell_type": "markdown",
   "metadata": {},
   "source": [
    "## Map the population birth places in relation to (interactive) time spans"
   ]
  },
  {
   "cell_type": "code",
   "execution_count": null,
   "metadata": {},
   "outputs": [],
   "source": [
    "### Concatenation of the person label values !\n",
    "# Needed for the popup\n",
    "df_result['concat_person'] = df_result['person_id'] + '|' + df_result['entity_std_name'] + ' (' + df_result['birth_year'] + ')'"
   ]
  },
  {
   "cell_type": "code",
   "execution_count": null,
   "metadata": {
    "tags": []
   },
   "outputs": [],
   "source": [
    "df_result.head()"
   ]
  },
  {
   "cell_type": "code",
   "execution_count": null,
   "metadata": {
    "scrolled": true,
    "tags": []
   },
   "outputs": [],
   "source": [
    "place_count = df_result.groupby(['id_place', 'place_label', 'long', 'lat'], as_index=False) \\\n",
    "      .agg({'concat_person': ','.join, 'person_id': 'count'}).sort_values(by=['place_label'])\n",
    "print(len(place_count))\n",
    "place_count[130:150]"
   ]
  },
  {
   "cell_type": "code",
   "execution_count": null,
   "metadata": {},
   "outputs": [],
   "source": [
    "place_count[place_count['place_label'] == 'Milano']"
   ]
  },
  {
   "cell_type": "code",
   "execution_count": null,
   "metadata": {},
   "outputs": [],
   "source": [
    "def update_layer(m, begin_end, color):\n",
    "    \n",
    "    # [m.remove_layer(n) for n in m.layers if n.name in ['Clusters', 'Flat locs']]\n",
    "    \n",
    "    [m.remove_control(n) for n in m.controls if 'LayersControl' in str(type(n)) ]\n",
    "    \n",
    "        \n",
    "    begin = begin_end[0]\n",
    "    end = begin_end[1]\n",
    "    x = df_result[(df_result['birth_year'].astype(int) >= begin) \\\n",
    "                  & (df_result['birth_year'].astype(int) < end)]\n",
    "    xgb = x.groupby(['id_place', 'place_label', 'long', 'lat'], as_index=False) \\\n",
    "      .agg({'concat_person': '#'.join, 'person_id': 'count'})\n",
    "    place_count = xgb.rename(columns={'person_id': 'count_persons'})\n",
    "\n",
    "\n",
    "    markers = []\n",
    "    popups = []\n",
    "    \n",
    "\n",
    "    for i,j in place_count.iterrows():\n",
    "    # print(j['id_place'])\n",
    "        message = HTML()\n",
    "        p_elements = ''\n",
    "        for z in j['concat_person'].split('#'):\n",
    "            if '|' in z:\n",
    "                zs = z.split('|')\n",
    "                p_elements += f\"\"\"<a href=\"https://data.cerl.org/thesaurus/{zs[0]}\">{zs[1]}</a><br/>\"\"\"\n",
    "            else:\n",
    "                p_elements = ''\n",
    "\n",
    "        message.value = f\"<h4>{j['place_label']}</h4>\" + p_elements\n",
    "        a = HBox([message], layout=Layout(width='200px', height='200px', overflow_y='auto',overflow=\"auto\"))\n",
    "\n",
    "\n",
    "        circle = CircleMarker(location=(j['lat'], j['long']), color=\"black\", name=f\"{j['place_label']}\", \\\n",
    "                              fill_color=color, radius = j['count_persons']+2, weight=1)\n",
    "\n",
    "        circle.popup = a\n",
    "        \n",
    "        markers.append(circle)\n",
    "\n",
    "\n",
    "    print(\"Markers' number \" + str(len(markers)))\n",
    "    \n",
    "    name_part = str(begin_end[0]) + '-' + str(begin_end[1]) + ' (' +  color + ')'\n",
    "    \n",
    "    lg1 = LayerGroup(name='Birth places ' + name_part, layers=(markers))\n",
    "    # lg2 = MarkerCluster(name='Clusters' + name_part, markers=markers)\n",
    "\n",
    "    m.add_layer(lg1)\n",
    "    # m.add_layer(lg2)\n",
    "    \n",
    "    control = LayersControl(name='layCont', position='topright')\n",
    "    m.add_control(control)\n",
    "    return n_iterations\n"
   ]
  },
  {
   "cell_type": "code",
   "execution_count": null,
   "metadata": {},
   "outputs": [],
   "source": [
    "df_year_set = sorted(list(set(df_result['birth_year'].astype(int))))\n",
    "print(len(df_year_set))\n",
    "min_y = min(df_year_set)\n",
    "max_y = max(df_year_set)\n",
    "i = 0\n",
    "srs = SelectionRangeSlider(\n",
    "    options=df_year_set,\n",
    "    index=(0, len(df_year_set)-1),\n",
    "    description='Years', \n",
    "    continous_update=False\n",
    "    # , disabled=False\n",
    ")\n"
   ]
  },
  {
   "cell_type": "code",
   "execution_count": null,
   "metadata": {
    "tags": []
   },
   "outputs": [],
   "source": [
    "watercolor = basemap_to_tiles(basemaps.Stamen.Watercolor)\n",
    "# esri_sat = basemap_to_tiles(basemaps.Esri.WorldImagery)\n",
    "\n",
    "## https://ipywidgets.readthedocs.io/en/latest/examples/Widget%20Styling.html\n",
    "m = Map(layers=(watercolor,), center=(45, 15), layout=Layout(width='100%', height='600px'),\\\n",
    "        zoom_control=False        # , zoom=4, scroll_wheel_zoom= True\n",
    "       )\n",
    "\n",
    "zoom_slider = IntSlider(description='Zoom level:', min=0, max=15, value=4)\n",
    "jslink((zoom_slider, 'value'), (m, 'zoom'))\n",
    "widget_control1 = WidgetControl(widget=zoom_slider, position='bottomright')\n",
    "m.add_control(widget_control1)\n",
    "\n",
    "m\n",
    "\n"
   ]
  },
  {
   "cell_type": "code",
   "execution_count": null,
   "metadata": {
    "tags": []
   },
   "outputs": [],
   "source": [
    "### https://ipywidgets.readthedocs.io/en/latest/examples/Using%20Interact.html\n",
    "n_iterations = 0\n",
    "colors = ['blue', 'red', 'black', 'purple', 'yellow' ]\n",
    "a = interactive(update_layer, {'manual':True}, m = fixed(m), color = colors, begin_end = srs);\n",
    "display(a)"
   ]
  },
  {
   "cell_type": "code",
   "execution_count": null,
   "metadata": {},
   "outputs": [],
   "source": [
    "i = interact(interactive_periods, period=IntSlider(min=10, max=100, step=10, value=20))"
   ]
  },
  {
   "cell_type": "code",
   "execution_count": null,
   "metadata": {
    "tags": []
   },
   "outputs": [],
   "source": [
    "[m.remove_control(n) for n in m.controls if 'LayersControl' in str(type(n)) ]"
   ]
  },
  {
   "cell_type": "code",
   "execution_count": null,
   "metadata": {
    "tags": []
   },
   "outputs": [],
   "source": [
    "[m.remove_control(n) for n in m.controls if 'LayerGroup' in str(type(n)) if n.name == 'Birth places 1550-1620 (yellow)']"
   ]
  },
  {
   "cell_type": "markdown",
   "metadata": {
    "tags": []
   },
   "source": [
    "# Activities\n",
    "\n",
    "Connect to the database and get the CERL fields where persons' activities are documenteted"
   ]
  },
  {
   "cell_type": "code",
   "execution_count": null,
   "metadata": {
    "tags": []
   },
   "outputs": [],
   "source": [
    "query = \"\"\"\n",
    "SELECT v1.person_id, entity_std_name, v1.v1, pp.actNote, \n",
    "       pp.generalNote, v1.\"min(v2)\" , v1.\"min(v3)\" , v1.\"min(v4)\" , v1.\"min(v5)\" \n",
    "FROM v_persons_birth_year_and_place AS v1 \n",
    "LEFT JOIN  person_properties pp ON pp.fk_new_json_files = v1.pk_new_json_files \n",
    "\"\"\""
   ]
  },
  {
   "cell_type": "code",
   "execution_count": null,
   "metadata": {},
   "outputs": [],
   "source": [
    "cn = sql.connect('db_stores/CERL.db')\n",
    "c = cn.cursor()\n",
    "c.execute(query)\n",
    "result_l = c.fetchall()\n",
    "cn.close()"
   ]
  },
  {
   "cell_type": "code",
   "execution_count": null,
   "metadata": {
    "scrolled": true,
    "tags": []
   },
   "outputs": [],
   "source": [
    "print(len(result_l))\n",
    "result_l[:2]  ## number : 1035 persons – but about 20 redundant, mentioned twice"
   ]
  },
  {
   "cell_type": "markdown",
   "metadata": {},
   "source": [
    "## Inspect the activity notes field and code the activities\n",
    "\n",
    "Original activities are those annotated as such in CERL, i.e. in the actNotes field:\n",
    "\n",
    "In this part they are grouped, inspected and coded\n"
   ]
  },
  {
   "cell_type": "markdown",
   "metadata": {},
   "source": [
    "### Produce the original activities list\n",
    "\n",
    "Original activities are those annotated as such in CRL, i.e. in the actNotes field\n"
   ]
  },
  {
   "cell_type": "code",
   "execution_count": null,
   "metadata": {},
   "outputs": [],
   "source": [
    "ast.literal_eval(result_l[0][3])"
   ]
  },
  {
   "cell_type": "code",
   "execution_count": null,
   "metadata": {},
   "outputs": [],
   "source": [
    "ast.literal_eval(result_l[0][4])"
   ]
  },
  {
   "cell_type": "code",
   "execution_count": null,
   "metadata": {},
   "outputs": [],
   "source": [
    "orig_activities_list = []\n",
    "errors_list = []\n",
    "\n",
    "for l in result_l:\n",
    "    \n",
    "    try:\n",
    "        gnd_activities  = []\n",
    "\n",
    "        for t in ast.literal_eval(l[3]):        \n",
    "            try:\n",
    "                if  t['intro']=='acti' and t['authority'] == 'gnd':\n",
    "                    gnd_activities.append(t['text'])\n",
    "\n",
    "            except Exception as e:\n",
    "                # print(e)\n",
    "                pass\n",
    "\n",
    "        orig_activities_list.append([l[0], gnd_activities])\n",
    "    except Exception as x:\n",
    "        errors_list.append([l[0], x])"
   ]
  },
  {
   "cell_type": "code",
   "execution_count": null,
   "metadata": {},
   "outputs": [],
   "source": [
    "print(len(errors_list))\n",
    "errors_list"
   ]
  },
  {
   "cell_type": "code",
   "execution_count": null,
   "metadata": {},
   "outputs": [],
   "source": [
    "print(len(orig_activities_list))\n",
    "orig_activities_list[:10]"
   ]
  },
  {
   "cell_type": "markdown",
   "metadata": {},
   "source": [
    "### Group and count the activities"
   ]
  },
  {
   "cell_type": "code",
   "execution_count": null,
   "metadata": {},
   "outputs": [],
   "source": [
    "tokens_li = []\n",
    "\n",
    "for z in [ t[1] for t in orig_activities_list]:\n",
    "    tokens_li += z "
   ]
  },
  {
   "cell_type": "code",
   "execution_count": null,
   "metadata": {},
   "outputs": [],
   "source": [
    "print(len(tokens_li))\n",
    "tokens_li[:10]"
   ]
  },
  {
   "cell_type": "code",
   "execution_count": null,
   "metadata": {},
   "outputs": [],
   "source": [
    "counter= Counter([t for t in tokens_li]) "
   ]
  },
  {
   "cell_type": "code",
   "execution_count": null,
   "metadata": {},
   "outputs": [],
   "source": [
    "c_result = list(zip(counter.keys(), counter.values()))"
   ]
  },
  {
   "cell_type": "code",
   "execution_count": null,
   "metadata": {
    "scrolled": true,
    "tags": []
   },
   "outputs": [],
   "source": [
    "s_tokens_li = sorted(c_result, key=itemgetter(1), reverse=True)\n",
    "s_tokens_li"
   ]
  },
  {
   "cell_type": "markdown",
   "metadata": {},
   "source": [
    "### Write the grouped activites to a CSV file, inspect and code them\n",
    "\n",
    "The activities are written to a .csv file transformed to a .ods (Calc) file, then coded manually, then exported to a new CSV file and opened for inspection"
   ]
  },
  {
   "cell_type": "code",
   "execution_count": null,
   "metadata": {
    "tags": []
   },
   "outputs": [],
   "source": [
    "with open('spreadsheets/manually_coded_orig_acti.csv', 'w', newline='') as csvfile:\n",
    "    doc_writer = csv.writer(csvfile, delimiter='|',\n",
    "                            quotechar='\"', quoting=csv.QUOTE_MINIMAL)\n",
    "    doc_writer.writerow(['token', 'freq', 'manual_code'])\n",
    "    [doc_writer.writerow(r) for r in s_tokens_li]"
   ]
  },
  {
   "cell_type": "markdown",
   "metadata": {},
   "source": [
    "### Inspect the coded grouped activities\n",
    "\n",
    "This file is a CSV export from the manually encoded .csv file with the same name."
   ]
  },
  {
   "cell_type": "code",
   "execution_count": null,
   "metadata": {},
   "outputs": [],
   "source": [
    "with open('spreadsheets/manually_coded_orig_acti_codes.csv', newline='') as csvfile:\n",
    "    doc_reader = csv.reader(csvfile, delimiter='|', quotechar='\"')\n",
    "    orig_codes = []\n",
    "    for row in doc_reader:\n",
    "        if len(row[2]) > 0:\n",
    "            orig_codes.append(row)\n"
   ]
  },
  {
   "cell_type": "code",
   "execution_count": null,
   "metadata": {
    "scrolled": true,
    "tags": []
   },
   "outputs": [],
   "source": [
    "### grouped coded activities \n",
    "orig_codes"
   ]
  },
  {
   "cell_type": "code",
   "execution_count": null,
   "metadata": {},
   "outputs": [],
   "source": [
    "### Original activities\n",
    "orig_activities_list[:3]"
   ]
  },
  {
   "cell_type": "markdown",
   "metadata": {},
   "source": [
    "### Code the original activities list\n",
    "\n",
    "This script produced a coded list of activities per person"
   ]
  },
  {
   "cell_type": "code",
   "execution_count": null,
   "metadata": {},
   "outputs": [],
   "source": [
    "pers_orig_activities = []\n",
    "for al in orig_activities_list:\n",
    "    al_codes = []\n",
    "    for c in orig_codes[1:]:\n",
    "        if c[0] in al[1]:\n",
    "            al_codes.append(c[2])\n",
    "    pers_orig_activities.append([al[0],sorted(list(set(al_codes)))])"
   ]
  },
  {
   "cell_type": "code",
   "execution_count": null,
   "metadata": {
    "scrolled": true,
    "tags": []
   },
   "outputs": [],
   "source": [
    "print(len(pers_orig_activities))\n",
    "pers_orig_activities"
   ]
  },
  {
   "cell_type": "markdown",
   "metadata": {},
   "source": [
    "## Inspect the general notes field and code the activities\n",
    "\n",
    "General notes also mention activities, i.e. in the actNotes field:\n",
    "\n",
    "In this part they are grouped, inspected and coded\n"
   ]
  },
  {
   "cell_type": "markdown",
   "metadata": {},
   "source": [
    "### General note list"
   ]
  },
  {
   "cell_type": "code",
   "execution_count": null,
   "metadata": {},
   "outputs": [],
   "source": [
    "ast.literal_eval(result_l[0][4])"
   ]
  },
  {
   "cell_type": "code",
   "execution_count": null,
   "metadata": {},
   "outputs": [],
   "source": [
    "notes_list = []\n",
    "notes_errors_list = []\n",
    "\n",
    "for l in result_l:\n",
    "    \n",
    "    try:\n",
    "        l_notes  = []\n",
    "\n",
    "        for t in ast.literal_eval(l[4]):        \n",
    "            try:\n",
    "                if  'fre' in t['lang'] or 'ger' in t['lang'] :\n",
    "                    l_notes_tokens = [tk for tk in re.split(r\"[\\s,.:;\\(\\)]\",t['text']) if len(tk) > 3]\n",
    "                    l_notes += l_notes_tokens\n",
    "            except Exception as e:\n",
    "                # print(e)\n",
    "                pass\n",
    "\n",
    "        notes_list.append([l[0], list(set(l_notes))])\n",
    "    except Exception as x:\n",
    "        notes_errors_list.append([l[0], x])"
   ]
  },
  {
   "cell_type": "code",
   "execution_count": null,
   "metadata": {
    "scrolled": true,
    "tags": []
   },
   "outputs": [],
   "source": [
    "print(len(notes_errors_list))\n",
    "notes_errors_list[:2]"
   ]
  },
  {
   "cell_type": "code",
   "execution_count": null,
   "metadata": {},
   "outputs": [],
   "source": [
    "len(notes_list)"
   ]
  },
  {
   "cell_type": "code",
   "execution_count": null,
   "metadata": {
    "scrolled": true,
    "tags": []
   },
   "outputs": [],
   "source": [
    "notes_list[:2]"
   ]
  },
  {
   "cell_type": "code",
   "execution_count": null,
   "metadata": {},
   "outputs": [],
   "source": [
    "tokens_li_notes = []\n",
    "for s in notes_list:\n",
    "    tokens_li_notes += s[1]"
   ]
  },
  {
   "cell_type": "code",
   "execution_count": null,
   "metadata": {},
   "outputs": [],
   "source": [
    "print(len(tokens_li_notes))\n",
    "counter= Counter([t for t in tokens_li_notes]) "
   ]
  },
  {
   "cell_type": "code",
   "execution_count": null,
   "metadata": {
    "tags": []
   },
   "outputs": [],
   "source": [
    "c_result_notes = list(zip(counter.keys(), counter.values()))"
   ]
  },
  {
   "cell_type": "code",
   "execution_count": null,
   "metadata": {
    "scrolled": true,
    "tags": []
   },
   "outputs": [],
   "source": [
    "std_c_result_notes = sorted(c_result_notes, key=itemgetter(1), reverse=True)\n",
    "std_c_result_notes"
   ]
  },
  {
   "cell_type": "markdown",
   "metadata": {},
   "source": [
    "### Write CSV\n",
    "\n",
    "The activities are coded manually in a dedicated .ods file, then a CSV export of the encoded activities produced"
   ]
  },
  {
   "cell_type": "code",
   "execution_count": null,
   "metadata": {
    "tags": []
   },
   "outputs": [],
   "source": [
    "with open('spreadsheets/manually_coded_activities.csv', 'w', newline='') as csvfile:\n",
    "    doc_writer = csv.writer(csvfile, delimiter='|',\n",
    "                            quotechar='\"', quoting=csv.QUOTE_MINIMAL)\n",
    "    doc_writer.writerow(['token', 'freq', 'manual_code'])\n",
    "    [doc_writer. writerow((list(r))) for r in std_c_result_notes]"
   ]
  },
  {
   "cell_type": "markdown",
   "metadata": {},
   "source": [
    "### Inspect the coded grouped activities\n",
    "\n",
    "This file is a CSV export from the manually encoded .csv file with the same name."
   ]
  },
  {
   "cell_type": "code",
   "execution_count": null,
   "metadata": {},
   "outputs": [],
   "source": [
    "with open('spreadsheets/manually_coded_activities_codes.csv', newline='') as csvfile:\n",
    "    doc_reader = csv.reader(csvfile, delimiter='|', quotechar='\"')\n",
    "    codes = []\n",
    "    for row in doc_reader:\n",
    "        if len(row[2]) > 0:\n",
    "            codes.append(row)\n"
   ]
  },
  {
   "cell_type": "code",
   "execution_count": null,
   "metadata": {
    "scrolled": true,
    "tags": []
   },
   "outputs": [],
   "source": [
    "codes"
   ]
  },
  {
   "cell_type": "markdown",
   "metadata": {},
   "source": [
    "### Coded general notes activities list"
   ]
  },
  {
   "cell_type": "code",
   "execution_count": null,
   "metadata": {},
   "outputs": [],
   "source": [
    "pers_activities = []\n",
    "for nl in notes_list:\n",
    "    nl_codes = []\n",
    "    for c in codes[1:]:\n",
    "        if c[0] in nl[1]:\n",
    "            nl_codes.append(c[2])\n",
    "    pers_activities.append([nl[0],sorted(list(set(nl_codes)))])"
   ]
  },
  {
   "cell_type": "code",
   "execution_count": null,
   "metadata": {
    "scrolled": true,
    "tags": []
   },
   "outputs": [],
   "source": [
    "print(len(pers_activities))\n",
    "pers_activities"
   ]
  },
  {
   "cell_type": "markdown",
   "metadata": {},
   "source": [
    "## Join codes lists"
   ]
  },
  {
   "cell_type": "code",
   "execution_count": null,
   "metadata": {},
   "outputs": [],
   "source": [
    "joined_list = []\n",
    "for poa in pers_orig_activities:\n",
    "    ll = []\n",
    "    for pa in  pers_activities:        \n",
    "        if pa[0] == poa[0]:\n",
    "            ll = poa[1] + pa[1]\n",
    "\n",
    "    joined_list.append([poa[0], poa[1], list(set(ll))])\n",
    "        "
   ]
  },
  {
   "cell_type": "code",
   "execution_count": null,
   "metadata": {
    "scrolled": true,
    "tags": []
   },
   "outputs": [],
   "source": [
    "print(len(joined_list))"
   ]
  },
  {
   "cell_type": "code",
   "execution_count": null,
   "metadata": {
    "scrolled": true,
    "tags": []
   },
   "outputs": [],
   "source": [
    "pprint.pprint(joined_list)"
   ]
  },
  {
   "cell_type": "markdown",
   "metadata": {},
   "source": [
    "## Add aggregation codes\n",
    "\n",
    "!!! This step must be carefully considered and adapted in the point of view of heuristic\n"
   ]
  },
  {
   "cell_type": "code",
   "execution_count": null,
   "metadata": {
    "tags": []
   },
   "outputs": [],
   "source": [
    "jl_list = []\n",
    "for jl in joined_list:\n",
    "    if 'med' in jl[1] and ('astrol' in jl[1] or 'astron' in jl[1] or 'math' in jl[1]):\n",
    "        jl_list.append([jl[0], 'med_math', jl[1]])\n",
    "        pass\n",
    "    elif ('theol' in jl[1] or 'cleric' in jl[1]) and ('astrol' in jl[1] or 'astron' in jl[1] or 'math' in jl[1]):\n",
    "        jl_list.append([jl[0], 'theol_math', jl[1]])\n",
    "        pass\n",
    "    elif 'med' in jl[1]:\n",
    "        jl_list.append([jl[0], 'med', jl[1]])\n",
    "        pass\n",
    "    elif ('theol' in jl[1] or 'cleric' in jl[1]) in jl[1]:\n",
    "        jl_list.append([jl[0], 'theol', jl[1]])\n",
    "        pass\n",
    "    elif 'astrol' in jl[1]:\n",
    "        jl_list.append([jl[0], 'astrol', jl[1]])\n",
    "        pass\n",
    "    elif 'astron' in jl[1]:\n",
    "        jl_list.append([jl[0], 'astron', jl[1]])\n",
    "        pass\n",
    "    elif 'math' in jl[1]:\n",
    "        jl_list.append([jl[0], 'math', jl[1]])\n",
    "        pass\n",
    "    elif 'philo' in jl[1] or 'phys' in jl[1]:\n",
    "        jl_list.append([jl[0], 'philo_phys', jl[1]])\n",
    "        pass\n",
    "    else:\n",
    "        jl_list.append([jl[0], 'other', jl[1]])\n",
    "        "
   ]
  },
  {
   "cell_type": "code",
   "execution_count": null,
   "metadata": {
    "scrolled": true,
    "tags": []
   },
   "outputs": [],
   "source": [
    "print(len(jl_list))\n",
    "pprint.pprint(jl_list)"
   ]
  },
  {
   "cell_type": "code",
   "execution_count": null,
   "metadata": {
    "tags": []
   },
   "outputs": [],
   "source": [
    "counter= Counter([t[1] for t in jl_list])\n",
    "c_jl_list = list(zip(counter.keys(), counter.values()))\n",
    "sorted_jl_list = sorted(c_jl_list, key=itemgetter(1), reverse=True)\n",
    "sorted_jl_list"
   ]
  },
  {
   "cell_type": "code",
   "execution_count": null,
   "metadata": {},
   "outputs": [],
   "source": [
    "values_l = [x[0] for x in sorted_jl_list]"
   ]
  },
  {
   "cell_type": "code",
   "execution_count": null,
   "metadata": {},
   "outputs": [],
   "source": []
  },
  {
   "cell_type": "markdown",
   "metadata": {},
   "source": [
    "# Interactively plot birth dates and activities"
   ]
  },
  {
   "cell_type": "code",
   "execution_count": null,
   "metadata": {},
   "outputs": [],
   "source": [
    "query = \"\"\"\n",
    "SELECT MAX(person_id) AS person_id, entity_std_name, \n",
    "v1 ,  \"min(v2)\" , \"min(v3)\", \"min(v4)\", \"min(v5)\"\n",
    "FROM v_persons_birth_year_and_place\n",
    "GROUP BY entity_std_name,  v1 ,  \"min(v2)\" , \"min(v3)\", \"min(v4)\", \"min(v5)\" \n",
    "ORDER BY v1 ;\n",
    "\"\"\""
   ]
  },
  {
   "cell_type": "code",
   "execution_count": null,
   "metadata": {},
   "outputs": [],
   "source": [
    "cn = sql.connect('db_stores/CERL.db')"
   ]
  },
  {
   "cell_type": "code",
   "execution_count": null,
   "metadata": {},
   "outputs": [],
   "source": [
    "c = cn.cursor()\n",
    "c.execute(query)\n",
    "result_l = c.fetchall()"
   ]
  },
  {
   "cell_type": "code",
   "execution_count": null,
   "metadata": {},
   "outputs": [],
   "source": [
    "cn.close()"
   ]
  },
  {
   "cell_type": "code",
   "execution_count": null,
   "metadata": {
    "scrolled": true,
    "tags": []
   },
   "outputs": [],
   "source": [
    "print(len(result_l))\n",
    "result_l[:2]  ## number : 1030 persons"
   ]
  },
  {
   "cell_type": "markdown",
   "metadata": {},
   "source": [
    "## Join activity codes"
   ]
  },
  {
   "cell_type": "code",
   "execution_count": null,
   "metadata": {},
   "outputs": [],
   "source": [
    "joined_result_l = []\n",
    "for rl in result_l:\n",
    "    for j in jl_list:\n",
    "        if rl[0] == j[0]:\n",
    "            out = list(rl) + [j[1]]\n",
    "    joined_result_l.append(out)        "
   ]
  },
  {
   "cell_type": "code",
   "execution_count": null,
   "metadata": {
    "scrolled": true,
    "tags": []
   },
   "outputs": [],
   "source": [
    "print(len(joined_result_l))\n",
    "joined_result_l"
   ]
  },
  {
   "cell_type": "code",
   "execution_count": null,
   "metadata": {
    "scrolled": true,
    "tags": []
   },
   "outputs": [],
   "source": [
    "df_joined_result_l = pd.DataFrame(joined_result_l, \\\n",
    "                         columns= ['person_id', 'entity_std_name', \\\n",
    "                                   'birth_year', 'id_place', 'place_label', 'long', 'lat', 'activity'])\n",
    "df_joined_result_l.head(10)"
   ]
  },
  {
   "cell_type": "markdown",
   "metadata": {},
   "source": [
    "## Distribution of birth years grouped by periods and activities"
   ]
  },
  {
   "cell_type": "code",
   "execution_count": null,
   "metadata": {
    "scrolled": true,
    "tags": []
   },
   "outputs": [],
   "source": [
    "year_activity_count = df_joined_result_l.groupby(['birth_year', 'activity'], as_index=False) \\\n",
    "      .agg({'person_id': 'count'}).sort_values(by=['birth_year'])\n",
    "print(len(year_activity_count))\n",
    "year_activity_count[:50] #[130:150]"
   ]
  },
  {
   "cell_type": "code",
   "execution_count": null,
   "metadata": {},
   "outputs": [],
   "source": [
    "year_activity_l = year_activity_count.values.tolist() \n",
    "print(year_activity_l[-1:])\n",
    "year_activity_l[:3]"
   ]
  },
  {
   "cell_type": "code",
   "execution_count": null,
   "metadata": {},
   "outputs": [],
   "source": [
    "### Create a list with intervals of 10 years, corresponding approximately to one generation.\n",
    "\n",
    "def create_years_list(period = 10, y_start = 1391, y_end = 1801):\n",
    "\n",
    "    y_list = []\n",
    "    y_list.append(y_start)\n",
    "\n",
    "    while y_start < y_end:\n",
    "        y_start += period\n",
    "        y_list.append(y_start)\n",
    "    return y_list    "
   ]
  },
  {
   "cell_type": "code",
   "execution_count": null,
   "metadata": {},
   "outputs": [],
   "source": [
    "def interactive_activity_periods(activity, remaining = False):\n",
    "    \n",
    "    output_l = []\n",
    "    work_l = year_activity_l\n",
    "    for a in activity:\n",
    "        prov_l = []\n",
    "        for l in work_l:            \n",
    "            if a == l[1]:\n",
    "                output_l.append(l)\n",
    "            else:\n",
    "                prov_l.append(l)\n",
    "        work_l = prov_l\n",
    "\n",
    "    # print(output_l)\n",
    "    print('Activities: ', len(output_l))\n",
    "    print('Remaining: ',len(work_l))\n",
    "    # print('\\n-----')\n",
    "    \n",
    "    period = 20 # 20 10\n",
    "    y_list = create_years_list(period = period, y_start = 1391, y_end = 1811)\n",
    "    \n",
    "    \n",
    "    \n",
    "    with plt.style.context(\"ggplot\"):\n",
    "                \n",
    "        fig, ax = plt.subplots(figsize=(18,9)) \n",
    "\n",
    "\n",
    "        width =  period - (period * 20 / 100)\n",
    "\n",
    "        bottom_list = []\n",
    "        i = 0\n",
    "        while i < len(y_list):\n",
    "            bottom_list.append(0)\n",
    "            i += 1\n",
    "\n",
    "        if remaining:\n",
    "            i_list = []\n",
    "            for i in y_list:\n",
    "                i_n = 0\n",
    "                for l in work_l:\n",
    "                    ### + 35 years in order to visualize the activity period\n",
    "                    if int(l[0]) + 35 >= i and int(l[0]) + 35 < (i + period):\n",
    "                        i_n = i_n + l[2]            \n",
    "                i_list.append([i, i_n]) \n",
    "            # print('BBB: ', i_list)            \n",
    "            draw_l = [i[1] for i in i_list]\n",
    "            ax.bar(y_list, draw_l, width, bottom = bottom_list, label='remaining' ) #, bottom = bottom_list)\n",
    "            bottom_list = [x + y for x, y in zip(bottom_list, draw_l)]\n",
    "\n",
    "\n",
    "        for a in activity:\n",
    "            i_list = []\n",
    "            for i in y_list:\n",
    "                i_n = 0\n",
    "                for l in output_l:\n",
    "                    ### + 35 years in order to visualize the activity period\n",
    "                    if l[1] == a and int(l[0]) + 35 >= i and int(l[0]) + 35 < (i + period):\n",
    "                        i_n = i_n + l[2]            \n",
    "                i_list.append([i, i_n]) \n",
    "            # print('AAA: ', i_list)            \n",
    "            draw_l = [i[1] for i in i_list]\n",
    "            ax.bar(y_list, draw_l, width, bottom = bottom_list, label=a ) #, bottom = bottom_list)\n",
    "            bottom_list = [x + y for x, y in zip(bottom_list, draw_l)]\n",
    "            # print(bottom_list)\n",
    "\n",
    "\n",
    "\n",
    "        ax.set_ylabel('Freq')\n",
    "        ax.set_title('Frequency by activity')\n",
    "        plt.xticks(y_list,rotation=45)\n",
    "\n",
    "        ax.legend()\n",
    "\n",
    "        p_out = plt.show()"
   ]
  },
  {
   "cell_type": "code",
   "execution_count": null,
   "metadata": {
    "scrolled": true,
    "tags": []
   },
   "outputs": [],
   "source": [
    "k = interactive(interactive_activity_periods, activity=SelectMultiple(\n",
    "    options=sorted(values_l),\n",
    "    value=['math'],\n",
    "    #rows=10,\n",
    "    description='Activities',\n",
    "    disabled=False\n",
    "), remaining = Checkbox(\n",
    "    value=False,\n",
    "    description='Show remaining',\n",
    "    disabled=False\n",
    "))"
   ]
  },
  {
   "cell_type": "code",
   "execution_count": null,
   "metadata": {},
   "outputs": [],
   "source": [
    "display(k)\n",
    "# dir(k)"
   ]
  },
  {
   "cell_type": "code",
   "execution_count": null,
   "metadata": {},
   "outputs": [],
   "source": []
  },
  {
   "cell_type": "code",
   "execution_count": null,
   "metadata": {},
   "outputs": [],
   "source": []
  }
 ],
 "metadata": {
  "kernelspec": {
   "display_name": "Py 3.7 Astronomy",
   "language": "python",
   "name": "py37_astronomy"
  },
  "language_info": {
   "codemirror_mode": {
    "name": "ipython",
    "version": 3
   },
   "file_extension": ".py",
   "mimetype": "text/x-python",
   "name": "python",
   "nbconvert_exporter": "python",
   "pygments_lexer": "ipython3",
   "version": "3.7.9"
  },
  "toc-autonumbering": false,
  "toc-showcode": false,
  "toc-showtags": true
 },
 "nbformat": 4,
 "nbformat_minor": 4
}
